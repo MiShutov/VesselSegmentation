{
 "cells": [
  {
   "cell_type": "code",
   "execution_count": 1,
   "id": "489759d3-cbf6-45fb-b82c-2f43e7ab7e40",
   "metadata": {},
   "outputs": [],
   "source": [
    "%load_ext autoreload\n",
    "%autoreload 2\n",
    "\n",
    "import matplotlib.pyplot as plt\n",
    "import numpy as np\n",
    "import torch\n",
    "import torchio as tio\n",
    "import torch.nn as nn\n",
    "from torch.nn import MSELoss, BCELoss\n",
    "from torch.utils.data import DataLoader\n",
    "from torch.optim.lr_scheduler import CosineAnnealingWarmRestarts\n",
    "\n",
    "from datetime import datetime\n",
    "import sys, os\n",
    "import time\n",
    "\n",
    "sys.path.insert(1, '../')\n",
    "from scripts.utils import get_path\n",
    "from scripts.load_and_save import save_vol_as_nii\n",
    "from ml.ClassVesselTrainer import VesselTrainer\n",
    "from ml.ClassVesselInferenceAgent import VesselInferenceAgent\n",
    "from ml.ClassTioDataset import TioDataset\n",
    "from ml.utils import get_total_params, load_pretrainned\n",
    "from ml.metrics import (F1_BINARY, PRECISION_BINARY,\n",
    "                        RECALL_BINARY, SPECIFICITY_BINARY,\n",
    "                        ExponentialLogarithmicLoss)\n",
    "\n",
    "from ml.models.GenUnet import GenUnet\n",
    "from ml.models.HessNet_new import HessNet\n",
    "from ml.models.unet3d import U_Net"
   ]
  },
  {
   "cell_type": "code",
   "execution_count": 2,
   "id": "6e790006-ccb3-4d22-ac4a-7e92a7512aa1",
   "metadata": {},
   "outputs": [],
   "source": [
    "N_JOBS = 10\n",
    "DEVICE = 'cuda'\n",
    "IS2D = 0\n",
    "\n",
    "\n",
    "if IS2D:\n",
    "    PATCH_SIZE_TRAIN = (512, 512, 1)\n",
    "    PATCH_SIZE_TEST = (512, 512, 1)\n",
    "    OVERLAP_TEST = (0, 0, 0)\n",
    "else:\n",
    "    PATCH_SIZE_TRAIN = (64, 64, 64)\n",
    "    PATCH_SIZE_TEST = (64, 64, 64)\n",
    "    OVERLAP_TEST = (4, 4, 4)"
   ]
  },
  {
   "cell_type": "code",
   "execution_count": 3,
   "id": "14ffa2f4-1ed6-4f24-96dc-2c4488227f13",
   "metadata": {},
   "outputs": [],
   "source": [
    "metric_functions = {\n",
    "    #\"DICE\" : F1_BINARY(),\n",
    "    #\"PR\" : PRECISION_BINARY(),\n",
    "    #\"RC\" : RECALL_BINARY(),\n",
    "    #\"SP\" : SPECIFICITY_BINARY(),\n",
    "}\n",
    "\n",
    "runner_params = {\n",
    "    'device' : DEVICE,\n",
    "    'metric_functions' : metric_functions,\n",
    "    \"patch_shape\" : PATCH_SIZE_TEST,\n",
    "    \"overlap_shape\" : OVERLAP_TEST,\n",
    "    \"batch_size\" : 16,\n",
    "    \"num_workers\": 4,\n",
    "}\n",
    "\n",
    "runner = VesselInferenceAgent(runner_params)"
   ]
  },
  {
   "cell_type": "code",
   "execution_count": 4,
   "id": "4834e814-dae1-4f73-9a78-c6655f447530",
   "metadata": {},
   "outputs": [],
   "source": [
    "LOG_PATH = '/home/msst/save_folder/VesselTrainer_log'\n",
    "model_name_with_date = 'HessNet_12_05_2024_16:47'\n",
    "epoch = 10"
   ]
  },
  {
   "cell_type": "code",
   "execution_count": 5,
   "id": "bbf22fdd-b78c-4a4b-b029-662861a4baef",
   "metadata": {},
   "outputs": [
    {
     "name": "stdout",
     "output_type": "stream",
     "text": [
      "tensor(0.9500)\n"
     ]
    }
   ],
   "source": [
    "runner.load_from_trainer_state(\n",
    "    get_path(f\"{LOG_PATH}/{model_name_with_date}/state_dicts\", f'state_dict_epoch_{epoch}')\n",
    ")\n",
    "print(runner.threshold)"
   ]
  },
  {
   "cell_type": "markdown",
   "id": "cd587883-f1c0-43eb-8834-7efdae4b7fe5",
   "metadata": {},
   "source": [
    "### Run sample segmentation"
   ]
  },
  {
   "cell_type": "code",
   "execution_count": 6,
   "id": "2ed1ce28-0251-4f5f-83f7-b09f0ba1bfcc",
   "metadata": {},
   "outputs": [
    {
     "name": "stdout",
     "output_type": "stream",
     "text": [
      "3.729891300201416\n"
     ]
    }
   ],
   "source": [
    "sample_index = '111'\n",
    "\n",
    "path_to_vol = get_path(f\"/home/msst/IXI_MRA_work/IXI{sample_index}\", key=\"head\")\n",
    "path_to_save = f\"/home/msst/new_segs/IXI{sample_index}\"\n",
    "  \n",
    "    \n",
    "subject_dict = {'head': tio.ScalarImage(path_to_vol)}\n",
    "subject = tio.Subject(subject_dict)\n",
    "subject = tio.transforms.ZNormalization()(subject)\n",
    "\n",
    "t = time.time()\n",
    "seg = runner.single_predict(subject)\n",
    "print(time.time() - t)\n",
    "\n",
    "os.makedirs(path_to_save, exist_ok=True)\n",
    "seg_path_to_save = f'{path_to_save}/{model_name_with_date}.nii.gz'\n",
    "save_vol_as_nii(seg, subject.head.affine, seg_path_to_save)"
   ]
  },
  {
   "cell_type": "code",
   "execution_count": null,
   "id": "d8a5ea29-93cc-4785-a6d8-c817f69b66bd",
   "metadata": {},
   "outputs": [],
   "source": []
  }
 ],
 "metadata": {
  "kernelspec": {
   "display_name": "segenv",
   "language": "python",
   "name": "segenv"
  },
  "language_info": {
   "codemirror_mode": {
    "name": "ipython",
    "version": 3
   },
   "file_extension": ".py",
   "mimetype": "text/x-python",
   "name": "python",
   "nbconvert_exporter": "python",
   "pygments_lexer": "ipython3",
   "version": "3.10.14"
  }
 },
 "nbformat": 4,
 "nbformat_minor": 5
}
