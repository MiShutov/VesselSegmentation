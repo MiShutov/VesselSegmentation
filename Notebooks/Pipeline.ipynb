{
 "cells": [
  {
   "cell_type": "code",
   "execution_count": 1,
   "id": "467c6a2c-58ea-4f74-b08c-1575c3202b24",
   "metadata": {},
   "outputs": [],
   "source": [
    "%load_ext autoreload\n",
    "%autoreload 2\n",
    "\n",
    "import matplotlib.pyplot as plt\n",
    "import numpy as np\n",
    "import torch\n",
    "import torchio as tio\n",
    "import torch.nn as nn\n",
    "from torch.nn import MSELoss, BCELoss\n",
    "from torch.utils.data import DataLoader\n",
    "from torch.optim.lr_scheduler import CosineAnnealingWarmRestarts\n",
    "\n",
    "from datetime import datetime\n",
    "import sys, os\n",
    "import time\n",
    "\n",
    "sys.path.insert(1, '../')\n",
    "from scripts.utils import get_path\n",
    "from scripts.load_and_save import save_vol_as_nii\n",
    "from ml.ClassVesselTrainer import VesselTrainer\n",
    "from ml.ClassVesselInferenceAgent import VesselInferenceAgent\n",
    "from ml.ClassTioDataset import TioDataset\n",
    "from ml.utils import get_total_params, load_pretrainned\n",
    "from ml.metrics import (F1_BINARY, PRECISION_BINARY,\n",
    "                        RECALL_BINARY, SPECIFICITY_BINARY,\n",
    "                        ExponentialLogarithmicLoss)\n",
    "\n",
    "from ml.models.GenUnet import GenUnet\n",
    "from ml.models.HessNet_new import HessNet\n",
    "from ml.models.unet3d import U_Net\n"
   ]
  },
  {
   "cell_type": "code",
   "execution_count": 2,
   "id": "1c6f80ce-bc43-4bdb-afde-c5d2c481fd25",
   "metadata": {},
   "outputs": [],
   "source": [
    "N_JOBS = 10\n",
    "DEVICE = 'cuda'\n",
    "IS2D = 0\n",
    "\n",
    "LOG_PATH = '/home/msst/save_folder/VesselTrainer_log'\n",
    "\n",
    "\n",
    "if IS2D:\n",
    "    PATCH_SIZE_TRAIN = (512, 512, 1)\n",
    "    PATCH_SIZE_TEST = (512, 512, 1)\n",
    "    OVERLAP_TEST = (0, 0, 0)\n",
    "else:\n",
    "    PATCH_SIZE_TRAIN = (64, 64, 64)\n",
    "    PATCH_SIZE_TEST = (64, 64, 64)\n",
    "    OVERLAP_TEST = (4, 4, 4)"
   ]
  },
  {
   "cell_type": "markdown",
   "id": "3111d775-2e27-4569-8cdc-ba222a0ef28c",
   "metadata": {
    "jp-MarkdownHeadingCollapsed": true
   },
   "source": [
    "## Train"
   ]
  },
  {
   "cell_type": "code",
   "execution_count": 3,
   "id": "750f205b-5c6e-46d7-b1bd-c19934bc99a1",
   "metadata": {},
   "outputs": [],
   "source": [
    "train_settings  = {\n",
    "    \"patch_shape\" : PATCH_SIZE_TRAIN,\n",
    "    \"patches_per_volume\" : 32,\n",
    "    \"patches_queue_length\" : 1440,\n",
    "    \"batch_size\" : 16,\n",
    "    \"num_workers\": 4,\n",
    "    \"sampler\": \"uniform\",\n",
    "}\n",
    "\n",
    "test_settings = {\n",
    "    \"patch_shape\" : PATCH_SIZE_TEST,\n",
    "    \"overlap_shape\" : OVERLAP_TEST,\n",
    "    \"batch_size\" : 1,\n",
    "    \"num_workers\": 4,\n",
    "}\n",
    "\n",
    "data_dir = \"/home/msst/Documents/medtech/data/HessData_IXI\"\n",
    "dataset = TioDataset(data_dir,\n",
    "                 train_settings=train_settings,\n",
    "                 val_settings=None,#val_settings,\n",
    "                 test_settings=test_settings,)"
   ]
  },
  {
   "cell_type": "code",
   "execution_count": 4,
   "id": "148f3a82-34cf-4eb4-826d-7d782f8c5445",
   "metadata": {},
   "outputs": [
    {
     "name": "stdout",
     "output_type": "stream",
     "text": [
      "total_params: 6630\n"
     ]
    }
   ],
   "source": [
    "# model_name = \"HessNet\"\n",
    "# model = GenUnet(dim=3, in_channels=1, out_channels=1,\n",
    "#                channels=8, depth=1)\n",
    "\n",
    "model_name = \"HessNet\"\n",
    "model = HessNet(in_channels=1,\n",
    "                out_channels=1,\n",
    "                n_hess_blocks=4)\n",
    "\n",
    "# model_name = \"Unet3d\"\n",
    "# model = U_Net()\n",
    "\n",
    "print(\"total_params:\", get_total_params(model))"
   ]
  },
  {
   "cell_type": "code",
   "execution_count": 5,
   "id": "95944b97-ceb6-46d4-b2a0-68ca9ff3cdd1",
   "metadata": {},
   "outputs": [],
   "source": [
    "N_epochs = 15"
   ]
  },
  {
   "cell_type": "code",
   "execution_count": 6,
   "id": "b96c978c-43d4-4252-92ed-d26694a5707b",
   "metadata": {},
   "outputs": [
    {
     "name": "stdout",
     "output_type": "stream",
     "text": [
      "Trainer.log_path: /home/msst/save_folder/VesselTrainer_log/HessNet_12_05_2024_16:47\n"
     ]
    }
   ],
   "source": [
    "dt_string = datetime.now().strftime(\"%d_%m_%Y_%H:%M\")\n",
    "\n",
    "metric_functions = {\n",
    "    \"DICE\" : F1_BINARY(),\n",
    "    \"PR\" : PRECISION_BINARY(),\n",
    "    \"RC\" : RECALL_BINARY(),\n",
    "    \"SP\" : SPECIFICITY_BINARY(),\n",
    "}\n",
    "\n",
    "# loss_fn =  ExponentialLogarithmicLoss(gamma_tversky=0.5, gamma_bce=0.5, lamb=0.5,\n",
    "#                                       freq = 0.1, tversky_alfa=0.5)\n",
    "loss_fn =  ExponentialLogarithmicLoss(gamma_tversky=0.5, gamma_bce=0.5, lamb=0.25,\n",
    "                                      freq = 0.1, tversky_alfa=0.25)\n",
    "\n",
    "optimizer = torch.optim.AdamW(model.parameters(), lr=0.02, weight_decay=0.01)\n",
    "sheduler = CosineAnnealingWarmRestarts(\n",
    "    optimizer,\n",
    "    T_0=N_epochs//2,\n",
    "    T_mult=1,\n",
    "    eta_min=0,\n",
    "    last_epoch=-1,\n",
    ")\n",
    "\n",
    "trainer_params = {\n",
    "    'device' : DEVICE,\n",
    "    \"model\": model,\n",
    "    \"loss_fn\" : loss_fn,\n",
    "    \"optimizer\" : optimizer,\n",
    "    \"scheduler\": sheduler,\n",
    "    \"metric_functions\" : metric_functions,\n",
    "    \"with_warnings\": True,\n",
    "    \"log_path\": f\"{LOG_PATH}/{model_name}_{dt_string}\",\n",
    "    \"is2d\" : IS2D,\n",
    "    'verbose' : True,\n",
    "    'stoper' : None\n",
    "}\n",
    "\n",
    "trainer = VesselTrainer(trainer_params)"
   ]
  },
  {
   "cell_type": "code",
   "execution_count": 7,
   "id": "1a803c16-5008-4ed8-adaa-9fadcd6bd4db",
   "metadata": {},
   "outputs": [],
   "source": [
    "#trainer.load_trainer_state('/home/msst/save_folder/VesselTrainer_log/GenUnet/state_dicts/state_dict_epoch_8')"
   ]
  },
  {
   "cell_type": "code",
   "execution_count": 8,
   "id": "0b8e1403-d464-4e34-a59b-5479647229bc",
   "metadata": {
    "collapsed": true,
    "jupyter": {
     "outputs_hidden": true
    }
   },
   "outputs": [
    {
     "data": {
      "application/vnd.jupyter.widget-view+json": {
       "model_id": "1847a77118d14486afcc2cf4ac8c6c77",
       "version_major": 2,
       "version_minor": 0
      },
      "text/plain": [
       "  0%|          | 0/68 [00:00<?, ?it/s]"
      ]
     },
     "metadata": {},
     "output_type": "display_data"
    },
    {
     "name": "stdout",
     "output_type": "stream",
     "text": [
      "Set learning rate: [0.01900968867902419]\n"
     ]
    },
    {
     "data": {
      "application/vnd.jupyter.widget-view+json": {
       "model_id": "da1de2960cf0462ca58b69e24e2a1deb",
       "version_major": 2,
       "version_minor": 0
      },
      "text/plain": [
       "  0%|          | 0/2 [00:00<?, ?it/s]"
      ]
     },
     "metadata": {},
     "output_type": "display_data"
    },
    {
     "name": "stdout",
     "output_type": "stream",
     "text": [
      "RESULT 1: Validation.\n",
      " DICE: 0.633 | PR: 0.475 | RC: 0.948 | SP: 0.997, \n",
      "threshold: 0.950\n"
     ]
    },
    {
     "data": {
      "application/vnd.jupyter.widget-view+json": {
       "model_id": "531e6061b65d4d22b9b7314d6c965f42",
       "version_major": 2,
       "version_minor": 0
      },
      "text/plain": [
       "  0%|          | 0/68 [00:00<?, ?it/s]"
      ]
     },
     "metadata": {},
     "output_type": "display_data"
    },
    {
     "name": "stdout",
     "output_type": "stream",
     "text": [
      "Set learning rate: [0.016234898018587338]\n"
     ]
    },
    {
     "data": {
      "application/vnd.jupyter.widget-view+json": {
       "model_id": "f60b8dcb22ac47c4b34220115bc92d89",
       "version_major": 2,
       "version_minor": 0
      },
      "text/plain": [
       "  0%|          | 0/2 [00:00<?, ?it/s]"
      ]
     },
     "metadata": {},
     "output_type": "display_data"
    },
    {
     "name": "stdout",
     "output_type": "stream",
     "text": [
      "RESULT 2: Validation.\n",
      " DICE: 0.735 | PR: 0.603 | RC: 0.941 | SP: 0.998, \n",
      "threshold: 0.950\n"
     ]
    },
    {
     "data": {
      "application/vnd.jupyter.widget-view+json": {
       "model_id": "57fd33de19ee4e7b95afea062008b2b7",
       "version_major": 2,
       "version_minor": 0
      },
      "text/plain": [
       "  0%|          | 0/68 [00:00<?, ?it/s]"
      ]
     },
     "metadata": {},
     "output_type": "display_data"
    },
    {
     "name": "stdout",
     "output_type": "stream",
     "text": [
      "Set learning rate: [0.012225209339563144]\n"
     ]
    },
    {
     "data": {
      "application/vnd.jupyter.widget-view+json": {
       "model_id": "161a3f8a19814ff48adc48711ffe349a",
       "version_major": 2,
       "version_minor": 0
      },
      "text/plain": [
       "  0%|          | 0/2 [00:00<?, ?it/s]"
      ]
     },
     "metadata": {},
     "output_type": "display_data"
    },
    {
     "name": "stdout",
     "output_type": "stream",
     "text": [
      "RESULT 3: Validation.\n",
      " DICE: 0.772 | PR: 0.653 | RC: 0.942 | SP: 0.999, \n",
      "threshold: 0.950\n"
     ]
    },
    {
     "data": {
      "application/vnd.jupyter.widget-view+json": {
       "model_id": "7fee2fe5e1de46af8b05c26e0a33b009",
       "version_major": 2,
       "version_minor": 0
      },
      "text/plain": [
       "  0%|          | 0/68 [00:00<?, ?it/s]"
      ]
     },
     "metadata": {},
     "output_type": "display_data"
    },
    {
     "name": "stdout",
     "output_type": "stream",
     "text": [
      "Set learning rate: [0.007774790660436856]\n"
     ]
    },
    {
     "data": {
      "application/vnd.jupyter.widget-view+json": {
       "model_id": "fa74b7f08e2247d980cbfd972573f686",
       "version_major": 2,
       "version_minor": 0
      },
      "text/plain": [
       "  0%|          | 0/2 [00:00<?, ?it/s]"
      ]
     },
     "metadata": {},
     "output_type": "display_data"
    },
    {
     "name": "stdout",
     "output_type": "stream",
     "text": [
      "RESULT 4: Validation.\n",
      " DICE: 0.750 | PR: 0.618 | RC: 0.951 | SP: 0.998, \n",
      "threshold: 0.950\n"
     ]
    },
    {
     "data": {
      "application/vnd.jupyter.widget-view+json": {
       "model_id": "a98e26f53e094a438e85b2f1a6b37745",
       "version_major": 2,
       "version_minor": 0
      },
      "text/plain": [
       "  0%|          | 0/68 [00:00<?, ?it/s]"
      ]
     },
     "metadata": {},
     "output_type": "display_data"
    },
    {
     "name": "stdout",
     "output_type": "stream",
     "text": [
      "Set learning rate: [0.0037651019814126654]\n"
     ]
    },
    {
     "data": {
      "application/vnd.jupyter.widget-view+json": {
       "model_id": "ecf321ee96414d70bd71123159e4a47f",
       "version_major": 2,
       "version_minor": 0
      },
      "text/plain": [
       "  0%|          | 0/2 [00:00<?, ?it/s]"
      ]
     },
     "metadata": {},
     "output_type": "display_data"
    },
    {
     "name": "stdout",
     "output_type": "stream",
     "text": [
      "RESULT 5: Validation.\n",
      " DICE: 0.773 | PR: 0.651 | RC: 0.951 | SP: 0.999, \n",
      "threshold: 0.950\n"
     ]
    },
    {
     "data": {
      "application/vnd.jupyter.widget-view+json": {
       "model_id": "2b70cb31c7cc4887b12ef1dd0d6e3518",
       "version_major": 2,
       "version_minor": 0
      },
      "text/plain": [
       "  0%|          | 0/68 [00:00<?, ?it/s]"
      ]
     },
     "metadata": {},
     "output_type": "display_data"
    },
    {
     "name": "stdout",
     "output_type": "stream",
     "text": [
      "Set learning rate: [0.0009903113209758097]\n"
     ]
    },
    {
     "data": {
      "application/vnd.jupyter.widget-view+json": {
       "model_id": "434dca93cc4c4be1a26a37ff070e9cbd",
       "version_major": 2,
       "version_minor": 0
      },
      "text/plain": [
       "  0%|          | 0/2 [00:00<?, ?it/s]"
      ]
     },
     "metadata": {},
     "output_type": "display_data"
    },
    {
     "name": "stdout",
     "output_type": "stream",
     "text": [
      "RESULT 6: Validation.\n",
      " DICE: 0.778 | PR: 0.656 | RC: 0.953 | SP: 0.999, \n",
      "threshold: 0.950\n"
     ]
    },
    {
     "data": {
      "application/vnd.jupyter.widget-view+json": {
       "model_id": "405edf6eddc2450499fa7185eb00f154",
       "version_major": 2,
       "version_minor": 0
      },
      "text/plain": [
       "  0%|          | 0/68 [00:00<?, ?it/s]"
      ]
     },
     "metadata": {},
     "output_type": "display_data"
    },
    {
     "name": "stdout",
     "output_type": "stream",
     "text": [
      "Set learning rate: [0.02]\n"
     ]
    },
    {
     "data": {
      "application/vnd.jupyter.widget-view+json": {
       "model_id": "81ea936e3ace4e88b8bde20844109c24",
       "version_major": 2,
       "version_minor": 0
      },
      "text/plain": [
       "  0%|          | 0/2 [00:00<?, ?it/s]"
      ]
     },
     "metadata": {},
     "output_type": "display_data"
    },
    {
     "name": "stdout",
     "output_type": "stream",
     "text": [
      "RESULT 7: Validation.\n",
      " DICE: 0.778 | PR: 0.655 | RC: 0.956 | SP: 0.999, \n",
      "threshold: 0.950\n"
     ]
    },
    {
     "data": {
      "application/vnd.jupyter.widget-view+json": {
       "model_id": "4f59f8df4b824a57a35d1ac66028b5bb",
       "version_major": 2,
       "version_minor": 0
      },
      "text/plain": [
       "  0%|          | 0/68 [00:00<?, ?it/s]"
      ]
     },
     "metadata": {},
     "output_type": "display_data"
    },
    {
     "name": "stdout",
     "output_type": "stream",
     "text": [
      "Set learning rate: [0.01900968867902419]\n"
     ]
    },
    {
     "data": {
      "application/vnd.jupyter.widget-view+json": {
       "model_id": "fb7f93eb244a45919bcbb83d1bd40629",
       "version_major": 2,
       "version_minor": 0
      },
      "text/plain": [
       "  0%|          | 0/2 [00:00<?, ?it/s]"
      ]
     },
     "metadata": {},
     "output_type": "display_data"
    },
    {
     "name": "stdout",
     "output_type": "stream",
     "text": [
      "RESULT 8: Validation.\n",
      " DICE: 0.772 | PR: 0.647 | RC: 0.959 | SP: 0.999, \n",
      "threshold: 0.950\n"
     ]
    },
    {
     "data": {
      "application/vnd.jupyter.widget-view+json": {
       "model_id": "744e144d29d543cdbbdcf0d40a5c9e19",
       "version_major": 2,
       "version_minor": 0
      },
      "text/plain": [
       "  0%|          | 0/68 [00:00<?, ?it/s]"
      ]
     },
     "metadata": {},
     "output_type": "display_data"
    },
    {
     "name": "stdout",
     "output_type": "stream",
     "text": [
      "Set learning rate: [0.016234898018587338]\n"
     ]
    },
    {
     "data": {
      "application/vnd.jupyter.widget-view+json": {
       "model_id": "0d58c793d7ba429f8f48414750b00f51",
       "version_major": 2,
       "version_minor": 0
      },
      "text/plain": [
       "  0%|          | 0/2 [00:00<?, ?it/s]"
      ]
     },
     "metadata": {},
     "output_type": "display_data"
    },
    {
     "name": "stdout",
     "output_type": "stream",
     "text": [
      "RESULT 9: Validation.\n",
      " DICE: 0.770 | PR: 0.642 | RC: 0.961 | SP: 0.999, \n",
      "threshold: 0.950\n"
     ]
    },
    {
     "data": {
      "application/vnd.jupyter.widget-view+json": {
       "model_id": "edcffed4009e4b82af521d7070282cf5",
       "version_major": 2,
       "version_minor": 0
      },
      "text/plain": [
       "  0%|          | 0/68 [00:00<?, ?it/s]"
      ]
     },
     "metadata": {},
     "output_type": "display_data"
    },
    {
     "name": "stdout",
     "output_type": "stream",
     "text": [
      "Set learning rate: [0.012225209339563144]\n"
     ]
    },
    {
     "data": {
      "application/vnd.jupyter.widget-view+json": {
       "model_id": "3d3ce00d6cce4e14a13cd0b825a8c756",
       "version_major": 2,
       "version_minor": 0
      },
      "text/plain": [
       "  0%|          | 0/2 [00:00<?, ?it/s]"
      ]
     },
     "metadata": {},
     "output_type": "display_data"
    },
    {
     "name": "stdout",
     "output_type": "stream",
     "text": [
      "RESULT 10: Validation.\n",
      " DICE: 0.778 | PR: 0.653 | RC: 0.961 | SP: 0.999, \n",
      "threshold: 0.950\n"
     ]
    },
    {
     "data": {
      "application/vnd.jupyter.widget-view+json": {
       "model_id": "bdf0c0f673e64ae6aa272360712e3e96",
       "version_major": 2,
       "version_minor": 0
      },
      "text/plain": [
       "  0%|          | 0/68 [00:00<?, ?it/s]"
      ]
     },
     "metadata": {},
     "output_type": "display_data"
    },
    {
     "name": "stdout",
     "output_type": "stream",
     "text": [
      "Set learning rate: [0.007774790660436856]\n"
     ]
    },
    {
     "data": {
      "application/vnd.jupyter.widget-view+json": {
       "model_id": "5007102e89174c9b9a93383483c7a2e0",
       "version_major": 2,
       "version_minor": 0
      },
      "text/plain": [
       "  0%|          | 0/2 [00:00<?, ?it/s]"
      ]
     },
     "metadata": {},
     "output_type": "display_data"
    },
    {
     "name": "stdout",
     "output_type": "stream",
     "text": [
      "RESULT 11: Validation.\n",
      " DICE: 0.780 | PR: 0.655 | RC: 0.962 | SP: 0.999, \n",
      "threshold: 0.950\n"
     ]
    },
    {
     "data": {
      "application/vnd.jupyter.widget-view+json": {
       "model_id": "92d8570754454b54b08579217787ecdc",
       "version_major": 2,
       "version_minor": 0
      },
      "text/plain": [
       "  0%|          | 0/68 [00:00<?, ?it/s]"
      ]
     },
     "metadata": {},
     "output_type": "display_data"
    },
    {
     "name": "stdout",
     "output_type": "stream",
     "text": [
      "Set learning rate: [0.0037651019814126654]\n"
     ]
    },
    {
     "data": {
      "application/vnd.jupyter.widget-view+json": {
       "model_id": "3acd4391e2404099878f7021cce5c7d5",
       "version_major": 2,
       "version_minor": 0
      },
      "text/plain": [
       "  0%|          | 0/2 [00:00<?, ?it/s]"
      ]
     },
     "metadata": {},
     "output_type": "display_data"
    },
    {
     "name": "stdout",
     "output_type": "stream",
     "text": [
      "RESULT 12: Validation.\n",
      " DICE: 0.787 | PR: 0.666 | RC: 0.961 | SP: 0.999, \n",
      "threshold: 0.950\n"
     ]
    },
    {
     "data": {
      "application/vnd.jupyter.widget-view+json": {
       "model_id": "a5d110b9fede4eafad2f8a7d1747bdff",
       "version_major": 2,
       "version_minor": 0
      },
      "text/plain": [
       "  0%|          | 0/68 [00:00<?, ?it/s]"
      ]
     },
     "metadata": {},
     "output_type": "display_data"
    },
    {
     "name": "stdout",
     "output_type": "stream",
     "text": [
      "Set learning rate: [0.0009903113209758097]\n"
     ]
    },
    {
     "data": {
      "application/vnd.jupyter.widget-view+json": {
       "model_id": "db34c59be5e44cbabc2a7a4fbce32cdd",
       "version_major": 2,
       "version_minor": 0
      },
      "text/plain": [
       "  0%|          | 0/2 [00:00<?, ?it/s]"
      ]
     },
     "metadata": {},
     "output_type": "display_data"
    },
    {
     "name": "stdout",
     "output_type": "stream",
     "text": [
      "RESULT 13: Validation.\n",
      " DICE: 0.784 | PR: 0.661 | RC: 0.963 | SP: 0.999, \n",
      "threshold: 0.950\n"
     ]
    },
    {
     "data": {
      "application/vnd.jupyter.widget-view+json": {
       "model_id": "33c01271017b4c4e8350d0d8ad9ce94b",
       "version_major": 2,
       "version_minor": 0
      },
      "text/plain": [
       "  0%|          | 0/68 [00:00<?, ?it/s]"
      ]
     },
     "metadata": {},
     "output_type": "display_data"
    },
    {
     "name": "stdout",
     "output_type": "stream",
     "text": [
      "Set learning rate: [0.02]\n"
     ]
    },
    {
     "data": {
      "application/vnd.jupyter.widget-view+json": {
       "model_id": "35442c67049e4420b8c2c607ff964054",
       "version_major": 2,
       "version_minor": 0
      },
      "text/plain": [
       "  0%|          | 0/2 [00:00<?, ?it/s]"
      ]
     },
     "metadata": {},
     "output_type": "display_data"
    },
    {
     "name": "stdout",
     "output_type": "stream",
     "text": [
      "RESULT 14: Validation.\n",
      " DICE: 0.785 | PR: 0.662 | RC: 0.963 | SP: 0.999, \n",
      "threshold: 0.950\n"
     ]
    },
    {
     "data": {
      "application/vnd.jupyter.widget-view+json": {
       "model_id": "9af25d14a5084af8a602a03abd883f46",
       "version_major": 2,
       "version_minor": 0
      },
      "text/plain": [
       "  0%|          | 0/68 [00:00<?, ?it/s]"
      ]
     },
     "metadata": {},
     "output_type": "display_data"
    },
    {
     "name": "stdout",
     "output_type": "stream",
     "text": [
      "Set learning rate: [0.01900968867902419]\n"
     ]
    },
    {
     "data": {
      "application/vnd.jupyter.widget-view+json": {
       "model_id": "2fa673aa587640f393599a38128e19e1",
       "version_major": 2,
       "version_minor": 0
      },
      "text/plain": [
       "  0%|          | 0/2 [00:00<?, ?it/s]"
      ]
     },
     "metadata": {},
     "output_type": "display_data"
    },
    {
     "name": "stdout",
     "output_type": "stream",
     "text": [
      "RESULT 15: Validation.\n",
      " DICE: 0.784 | PR: 0.661 | RC: 0.964 | SP: 0.999, \n",
      "threshold: 0.950\n",
      "Finished Training and Validating\n"
     ]
    }
   ],
   "source": [
    "trainer.fit(n_epochs=N_epochs,\n",
    "            train_loader=dataset.train_dataloader,\n",
    "            test_loader=dataset.test_dataloader)"
   ]
  },
  {
   "cell_type": "markdown",
   "id": "6a58b596-8d2c-4acb-aec0-7703d05487eb",
   "metadata": {},
   "source": [
    "## Inference"
   ]
  },
  {
   "cell_type": "code",
   "execution_count": 10,
   "id": "bde2e924-9e0f-49ad-9c1b-be24d08d647d",
   "metadata": {},
   "outputs": [],
   "source": [
    "metric_functions = {\n",
    "    \"DICE\" : F1_BINARY(),\n",
    "    \"PR\" : PRECISION_BINARY(),\n",
    "    \"RC\" : RECALL_BINARY(),\n",
    "    \"SP\" : SPECIFICITY_BINARY(),\n",
    "}\n",
    "\n",
    "runner_params = {\n",
    "    'device' : DEVICE,\n",
    "    'metric_functions' : metric_functions,\n",
    "    \"patch_shape\" : PATCH_SIZE_TEST,\n",
    "    \"overlap_shape\" : OVERLAP_TEST,\n",
    "    \"batch_size\" : 16,\n",
    "    \"num_workers\": 4,\n",
    "}\n",
    "\n",
    "runner = VesselInferenceAgent(runner_params)"
   ]
  },
  {
   "cell_type": "code",
   "execution_count": 34,
   "id": "e6eb220c-d279-4a18-8a1b-0019eaa19487",
   "metadata": {},
   "outputs": [
    {
     "name": "stdout",
     "output_type": "stream",
     "text": [
      "tensor(0.9000)\n"
     ]
    }
   ],
   "source": [
    "#model_name_with_date = 'HessNet_07_05_2024_00:43'\n",
    "#model_name_with_date = 'Unet3d_07_05_2024_00:13'\n",
    "#model_name_with_date = 'Unet3d_12_05_2024_16:26'\n",
    "#model_name_with_date = 'HessNet_12_05_2024_16:47'\n",
    "\n",
    "epoch = 10\n",
    "runner.load_from_trainer_state(\n",
    "    get_path(f\"{LOG_PATH}/{model_name_with_date}/state_dicts\", f'state_dict_epoch_{epoch}')\n",
    ")\n",
    "print(runner.threshold)"
   ]
  },
  {
   "cell_type": "code",
   "execution_count": 35,
   "id": "c5c8b3c2-b341-448d-9505-d9cc342638fa",
   "metadata": {},
   "outputs": [],
   "source": [
    "# model_name_with_date = 'Unet3d_16ch_21.03_2_weights'\n",
    "# model = U_Net()\n",
    "\n",
    "# model.load_state_dict(torch.load(f'/home/msst/save_folder/saved_models/{model_name_with_date}.pth'))\n",
    "# runner.set_model(model)\n",
    "# model_name_with_date = 'Unet3d_16ch'"
   ]
  },
  {
   "cell_type": "code",
   "execution_count": 36,
   "id": "d84dbea9-a60c-466a-b4c5-71ec9b9f76e8",
   "metadata": {},
   "outputs": [],
   "source": [
    "#runner.threshold = 0.5"
   ]
  },
  {
   "cell_type": "code",
   "execution_count": 37,
   "id": "66ea4be6-46e8-4d1c-97b0-a455b6fb70d3",
   "metadata": {},
   "outputs": [
    {
     "data": {
      "text/plain": [
       "1"
      ]
     },
     "execution_count": 37,
     "metadata": {},
     "output_type": "execute_result"
    }
   ],
   "source": [
    "device = 'cuda'\n",
    "runner.device = device\n",
    "runner.model.to(device)\n",
    "1"
   ]
  },
  {
   "cell_type": "code",
   "execution_count": 38,
   "id": "5cc88419-d2ca-4520-aa30-22d747effaf9",
   "metadata": {},
   "outputs": [
    {
     "name": "stdout",
     "output_type": "stream",
     "text": [
      "3.3835253715515137\n",
      "3.437211513519287\n",
      "3.5923876762390137\n",
      "3.532599449157715\n"
     ]
    }
   ],
   "source": [
    "#indexes = ['341', '342', '344',]\n",
    "indexes = ['160', '161', '162', '163']\n",
    "\n",
    "#indexes = ['252', '253', '254', '256', '257', '258', '259', '260', '261', '262', '263']\n",
    "\n",
    "\n",
    "for sample_index in indexes:\n",
    "    path_to_vol = get_path(f\"/home/msst/IXI_MRA_work/IXI{sample_index}\", key=\"head\")\n",
    "    \n",
    "    \n",
    "    subject_dict = {'head': tio.ScalarImage(path_to_vol)}\n",
    "    subject = tio.Subject(subject_dict)\n",
    "    subject = tio.transforms.ZNormalization()(subject)\n",
    "    \n",
    "    t = time.time()\n",
    "    seg = runner.single_predict(subject)\n",
    "    print(time.time() - t)\n",
    "    \n",
    "    path_to_save = f\"/home/msst/new_segs/IXI{sample_index}\"\n",
    "    os.makedirs(path_to_save, exist_ok=True)\n",
    "    seg_path_to_save = f'{path_to_save}/{model_name_with_date}.nii.gz'\n",
    "    save_vol_as_nii(seg, subject.head.affine, seg_path_to_save)"
   ]
  },
  {
   "cell_type": "code",
   "execution_count": 37,
   "id": "41db9612-0cc5-4225-a2a1-f6e3fcf02035",
   "metadata": {},
   "outputs": [],
   "source": [
    "# path_to_save = f\"/home/msst/IXI_MRA_work/IXI{sample_index}/{model_name_with_date}.nii.gz\"\n",
    "#save_vol_as_nii(seg, subject.head.affine, path_to_save)"
   ]
  },
  {
   "cell_type": "code",
   "execution_count": null,
   "id": "1afc41fd-476d-4dd0-8a67-755b4bd88646",
   "metadata": {},
   "outputs": [],
   "source": []
  },
  {
   "cell_type": "code",
   "execution_count": null,
   "id": "40ea7c81-a6a5-452c-b85e-c2dded8f5d1f",
   "metadata": {},
   "outputs": [],
   "source": []
  },
  {
   "cell_type": "code",
   "execution_count": null,
   "id": "479ede8e-8d32-4825-b691-d5f05bd92601",
   "metadata": {},
   "outputs": [],
   "source": []
  },
  {
   "cell_type": "code",
   "execution_count": 30,
   "id": "02b94c76-a2a1-4878-b388-7f27ca7e12a1",
   "metadata": {},
   "outputs": [
    {
     "name": "stdout",
     "output_type": "stream",
     "text": [
      "{'DICE': '0.613138', 'AVGDIST': '4.506680', 'SPCFTY': '0.997142', 'PRCISON': '0.474295', 'SNSVTY': '0.866915'}\n",
      "\n"
     ]
    },
    {
     "data": {
      "text/plain": [
       "['Similarity:',\n",
       " 'DICE\\t= 0.613138\\tDice Coefficient (F1-Measure) ',\n",
       " 'JACRD\\t= 0.442105\\tJaccard Coefficient ',\n",
       " 'AUC\\t= 0.932029\\tArea under ROC Curve ',\n",
       " 'KAPPA\\t= 0.611649\\tCohen Kappa ',\n",
       " 'RNDIND\\t= 0.993533\\tRand Index ',\n",
       " 'ADJRIND\\t= 0.609648\\tAdjusted Rand Index ',\n",
       " 'ICCORR\\t= 0.613125\\tInterclass Correlation ',\n",
       " 'VOLSMTY\\t= 0.707264\\tVolumetric Similarity Coefficient ',\n",
       " 'MUTINF\\t= 0.018736\\tMutual Information ',\n",
       " '',\n",
       " 'Distance:',\n",
       " 'HDRFDST\\t= 117.630778\\tHausdorff Distance (in voxel)',\n",
       " 'AVGDIST\\t= 4.506680\\tAverage Hausdorff Distance (in voxel)',\n",
       " 'MAHLNBS\\t= 0.132073\\tMahanabolis Distance ',\n",
       " 'VARINFO\\t= 0.040303\\tVariation of Information ',\n",
       " 'GCOERR\\t= 0.004990\\tGlobal Consistency Error ',\n",
       " 'PROBDST\\t= 0.002474\\tProbabilistic Distance ',\n",
       " '',\n",
       " 'Classic Measures:',\n",
       " 'SNSVTY\\t= 0.866915\\tSensitivity (Recall, true positive rate) ',\n",
       " 'SPCFTY\\t= 0.997142\\tSpecificity (true negative rate) ',\n",
       " 'PRCISON\\t= 0.474295\\tPrecision (Confidence) ',\n",
       " 'FMEASR\\t= 0.613138\\tF-Measure ',\n",
       " 'ACURCY\\t= 0.996756\\tAccuracy ',\n",
       " 'FALLOUT\\t= 0.002858\\tFallout (false positive rate) ',\n",
       " 'TP\\t= 67394\\ttrue positive (in voxel)',\n",
       " 'FP\\t= 74699\\tfalse positive (in voxel)',\n",
       " 'TN\\t= 26061961\\ttrue negative (in voxel)',\n",
       " 'FN\\t= 10346\\tfalse negative (in voxel)',\n",
       " 'REFVOL\\t= 77740\\treference volume (in voxel)',\n",
       " 'SEGVOL\\t= 142093\\tsegmented volume (in voxel)',\n",
       " '',\n",
       " 'Total execution time= 11088 milliseconds',\n",
       " '',\n",
       " '',\n",
       " '  ---** VISCERAL 2013, www.visceral.eu **---',\n",
       " '',\n",
       " '']"
      ]
     },
     "execution_count": 30,
     "metadata": {},
     "output_type": "execute_result"
    }
   ],
   "source": [
    "import subprocess\n",
    "import re\n",
    "\n",
    "path_to_EvaluateSegmentation = '/home/msst/repo/MSRepo/VesselSegmentation/Inference/EvaluateSegmentation'\n",
    "\n",
    "GT_path = get_path(f\"/home/msst/IXI_MRA_work/IXI{sample_index}\", key=\"vessels\")\n",
    "SEG_path = path_to_save\n",
    "\n",
    "command_output = subprocess.run([f\"{path_to_EvaluateSegmentation}\",\n",
    "                                    GT_path, SEG_path], stdout=subprocess.PIPE, text=True)\n",
    "command_output = command_output.stdout.split('\\n')\n",
    "\n",
    "metrics = [\"DICE\", \"AVGDIST\", \"SPCFTY\", \"PRCISON\", \"SNSVTY\"]\n",
    "metric_dict = {}\n",
    "for metric in metrics:\n",
    "    for line in command_output:\n",
    "        if re.search(metric, line):\n",
    "            metric_dict.update({metric : line.split('\\t')[1][2:]})\n",
    "\n",
    "\n",
    "print(metric_dict)\n",
    "print()\n",
    "command_output"
   ]
  },
  {
   "cell_type": "code",
   "execution_count": null,
   "id": "75aca13a-0b69-4073-8985-c91ec4c92ae5",
   "metadata": {},
   "outputs": [],
   "source": []
  }
 ],
 "metadata": {
  "kernelspec": {
   "display_name": "segenv",
   "language": "python",
   "name": "segenv"
  },
  "language_info": {
   "codemirror_mode": {
    "name": "ipython",
    "version": 3
   },
   "file_extension": ".py",
   "mimetype": "text/x-python",
   "name": "python",
   "nbconvert_exporter": "python",
   "pygments_lexer": "ipython3",
   "version": "3.10.14"
  }
 },
 "nbformat": 4,
 "nbformat_minor": 5
}
