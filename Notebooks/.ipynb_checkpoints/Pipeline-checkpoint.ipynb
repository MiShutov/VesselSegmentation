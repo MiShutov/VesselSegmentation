{
 "cells": [
  {
   "cell_type": "code",
   "execution_count": 13,
   "id": "467c6a2c-58ea-4f74-b08c-1575c3202b24",
   "metadata": {},
   "outputs": [
    {
     "name": "stdout",
     "output_type": "stream",
     "text": [
      "The autoreload extension is already loaded. To reload it, use:\n",
      "  %reload_ext autoreload\n"
     ]
    }
   ],
   "source": [
    "%load_ext autoreload\n",
    "%autoreload 2\n",
    "\n",
    "import matplotlib.pyplot as plt\n",
    "import numpy as np\n",
    "import torch\n",
    "import torchio as tio\n",
    "import torch.nn as nn\n",
    "from torch.nn import MSELoss, BCELoss\n",
    "from torch.utils.data import DataLoader\n",
    "from datetime import datetime\n",
    "import sys, os\n",
    "import time\n",
    "\n",
    "sys.path.insert(1, '../')\n",
    "\n",
    "from ml.ClassVesselTrainer import VesselTrainer\n",
    "from ml.ClassVesselInferenceAgent import VesselInferenceAgent\n",
    "from ml.ClassTioDataset import TioDataset\n",
    "from ml.utils import get_total_params, load_pretrainned\n",
    "from ml.metrics import (F1_BINARY, PRECISION_BINARY,\n",
    "                        RECALL_BINARY, SPECIFICITY_BINARY,\n",
    "                        ExponentialLogarithmicLoss)\n",
    "from ml.models.GenUnet import GenUnet\n",
    "\n",
    "from scripts.utils import get_path\n",
    "from scripts.load_and_save import save_vol_as_nii\n",
    "\n",
    "N_JOBS = 6\n",
    "DEVICE = 'cuda'\n",
    "IS2D = 0\n",
    "\n",
    "LOG_PATH = '/home/msst/save_folder/VesselTrainer_log'\n",
    "\n",
    "\n",
    "if IS2D:\n",
    "    PATCH_SIZE_TRAIN = (512, 512, 1)\n",
    "    PATCH_SIZE_TEST = (512, 512, 1)\n",
    "    OVERLAP_TEST = (0, 0, 0)\n",
    "else:\n",
    "    PATCH_SIZE_TRAIN = (64, 64, 64)\n",
    "    PATCH_SIZE_TEST = (64, 64, 64)\n",
    "    OVERLAP_TEST = (4, 4, 4)"
   ]
  },
  {
   "cell_type": "markdown",
   "id": "3111d775-2e27-4569-8cdc-ba222a0ef28c",
   "metadata": {
    "jp-MarkdownHeadingCollapsed": true
   },
   "source": [
    "## Train"
   ]
  },
  {
   "cell_type": "code",
   "execution_count": 2,
   "id": "750f205b-5c6e-46d7-b1bd-c19934bc99a1",
   "metadata": {},
   "outputs": [],
   "source": [
    "train_settings  = {\n",
    "    \"patch_shape\" : PATCH_SIZE_TRAIN,\n",
    "    \"patches_per_volume\" : 32,\n",
    "    \"patches_queue_length\" : 1440,\n",
    "    \"batch_size\" : 8,\n",
    "    \"num_workers\": 4,\n",
    "    \"sampler\": \"uniform\",\n",
    "}\n",
    "\n",
    "test_settings = {\n",
    "    \"patch_shape\" : PATCH_SIZE_TEST,\n",
    "    \"overlap_shape\" : OVERLAP_TEST,\n",
    "    \"batch_size\" : 1,\n",
    "    \"num_workers\": 4,\n",
    "}\n",
    "\n",
    "data_dir = \"/home/msst/Documents/medtech/data/HessData_IXI\"\n",
    "dataset = TioDataset(data_dir,\n",
    "                 train_settings=train_settings,\n",
    "                 val_settings=None,#val_settings,\n",
    "                 test_settings=test_settings,)"
   ]
  },
  {
   "cell_type": "code",
   "execution_count": 3,
   "id": "148f3a82-34cf-4eb4-826d-7d782f8c5445",
   "metadata": {},
   "outputs": [
    {
     "name": "stdout",
     "output_type": "stream",
     "text": [
      "total_params: 21385\n"
     ]
    }
   ],
   "source": [
    "model_name = \"GenUnet\"\n",
    "model = GenUnet(dim=3, in_channels=1, out_channels=1,\n",
    "               channels=8, depth=1)\n",
    "\n",
    "print(\"total_params:\", get_total_params(model))"
   ]
  },
  {
   "cell_type": "code",
   "execution_count": 4,
   "id": "b96c978c-43d4-4252-92ed-d26694a5707b",
   "metadata": {},
   "outputs": [
    {
     "name": "stdout",
     "output_type": "stream",
     "text": [
      "Trainer.log_path: /home/msst/save_folder/VesselTrainer_log/GenUnet_26_03_2024_01:35\n"
     ]
    }
   ],
   "source": [
    "dt_string = datetime.now().strftime(\"%d_%m_%Y_%H:%M\")\n",
    "\n",
    "metric_functions = {\n",
    "    \"DICE\" : F1_BINARY(),\n",
    "    \"PR\" : PRECISION_BINARY(),\n",
    "    \"RC\" : RECALL_BINARY(),\n",
    "    \"SP\" : SPECIFICITY_BINARY(),\n",
    "}\n",
    "\n",
    "loss_fn =  ExponentialLogarithmicLoss(gamma_tversky=0.5, gamma_bce=0.5, lamb=0.5,\n",
    "                                      freq = 0.1, tversky_alfa=0.5)\n",
    "# loss_fn =  ExponentialLogarithmicLoss(gamma_tversky=0.5, gamma_bce=0.5, lamb=0.1,\n",
    "#                                       freq = 0.1, tversky_alfa=0.2)\n",
    "\n",
    "trainer_params = {\n",
    "    'device' : DEVICE,\n",
    "    \"model\": model,\n",
    "    \"loss_fn\" : loss_fn,\n",
    "    \"optimizer\" : torch.optim.Adam(model.parameters(), lr=0.02),\n",
    "    \"scheduler\": None,#lambda optimizer: StepLR(optimizer, step_size=5, gamma=0.5)\n",
    "    \"metric_functions\" : metric_functions,\n",
    "    \"with_warnings\": True,\n",
    "    \"log_path\": f\"{LOG_PATH}/{model_name}_{dt_string}\",\n",
    "    \"is2d\" : IS2D,\n",
    "    'verbose' : True,\n",
    "    'stoper' : None\n",
    "}\n",
    "\n",
    "trainer = VesselTrainer(trainer_params)"
   ]
  },
  {
   "cell_type": "code",
   "execution_count": 5,
   "id": "1a803c16-5008-4ed8-adaa-9fadcd6bd4db",
   "metadata": {},
   "outputs": [
    {
     "name": "stdout",
     "output_type": "stream",
     "text": [
      "Trainer.log_path: /home/msst/save_folder/VesselTrainer_log/GenUnet_26_03_2024_01:35\n"
     ]
    }
   ],
   "source": [
    "trainer.load_trainer_state('/home/msst/save_folder/VesselTrainer_log/GenUnet/state_dicts/state_dict_epoch_8')"
   ]
  },
  {
   "cell_type": "code",
   "execution_count": 6,
   "id": "0b8e1403-d464-4e34-a59b-5479647229bc",
   "metadata": {
    "collapsed": true,
    "jupyter": {
     "outputs_hidden": true
    }
   },
   "outputs": [
    {
     "data": {
      "application/vnd.jupyter.widget-view+json": {
       "model_id": "4170294571624c0a8a417f3587721c98",
       "version_major": 2,
       "version_minor": 0
      },
      "text/plain": [
       "  0%|          | 0/72 [00:00<?, ?it/s]"
      ]
     },
     "metadata": {},
     "output_type": "display_data"
    },
    {
     "data": {
      "application/vnd.jupyter.widget-view+json": {
       "model_id": "133570a6312c4350835f8caad40240ba",
       "version_major": 2,
       "version_minor": 0
      },
      "text/plain": [
       "  0%|          | 0/2 [00:00<?, ?it/s]"
      ]
     },
     "metadata": {},
     "output_type": "display_data"
    },
    {
     "name": "stdout",
     "output_type": "stream",
     "text": [
      "RESULT 9: Validation.\n",
      " DICE: 0.796 | PR: 0.699 | RC: 0.924 | SP: 0.999, \n",
      "threshold: 0.950\n"
     ]
    },
    {
     "data": {
      "application/vnd.jupyter.widget-view+json": {
       "model_id": "a1dd952aa0c54d4789f211875cd54827",
       "version_major": 2,
       "version_minor": 0
      },
      "text/plain": [
       "  0%|          | 0/72 [00:00<?, ?it/s]"
      ]
     },
     "metadata": {},
     "output_type": "display_data"
    },
    {
     "data": {
      "application/vnd.jupyter.widget-view+json": {
       "model_id": "a3c8ed2929244c67bc7be3f88c7b72eb",
       "version_major": 2,
       "version_minor": 0
      },
      "text/plain": [
       "  0%|          | 0/2 [00:00<?, ?it/s]"
      ]
     },
     "metadata": {},
     "output_type": "display_data"
    },
    {
     "name": "stdout",
     "output_type": "stream",
     "text": [
      "RESULT 10: Validation.\n",
      " DICE: 0.853 | PR: 0.828 | RC: 0.881 | SP: 0.999, \n",
      "threshold: 0.550\n"
     ]
    },
    {
     "data": {
      "application/vnd.jupyter.widget-view+json": {
       "model_id": "201003ba648a441d8101e103d88bb345",
       "version_major": 2,
       "version_minor": 0
      },
      "text/plain": [
       "  0%|          | 0/72 [00:00<?, ?it/s]"
      ]
     },
     "metadata": {},
     "output_type": "display_data"
    },
    {
     "name": "stdout",
     "output_type": "stream",
     "text": [
      "KeyboardInterrupt\n"
     ]
    },
    {
     "ename": "AttributeError",
     "evalue": "'VesselTrainer' object has no attribute 'neptune_loger'",
     "output_type": "error",
     "traceback": [
      "\u001b[0;31m---------------------------------------------------------------------------\u001b[0m",
      "\u001b[0;31mAttributeError\u001b[0m                            Traceback (most recent call last)",
      "Cell \u001b[0;32mIn[6], line 1\u001b[0m\n\u001b[0;32m----> 1\u001b[0m \u001b[43mtrainer\u001b[49m\u001b[38;5;241;43m.\u001b[39;49m\u001b[43mfit\u001b[49m\u001b[43m(\u001b[49m\u001b[43mn_epochs\u001b[49m\u001b[38;5;241;43m=\u001b[39;49m\u001b[38;5;241;43m3\u001b[39;49m\u001b[43m,\u001b[49m\n\u001b[1;32m      2\u001b[0m \u001b[43m            \u001b[49m\u001b[43mtrain_loader\u001b[49m\u001b[38;5;241;43m=\u001b[39;49m\u001b[43mdataset\u001b[49m\u001b[38;5;241;43m.\u001b[39;49m\u001b[43mtrain_dataloader\u001b[49m\u001b[43m,\u001b[49m\n\u001b[1;32m      3\u001b[0m \u001b[43m            \u001b[49m\u001b[43mtest_loader\u001b[49m\u001b[38;5;241;43m=\u001b[39;49m\u001b[43mdataset\u001b[49m\u001b[38;5;241;43m.\u001b[39;49m\u001b[43mtest_dataloader\u001b[49m\u001b[43m)\u001b[49m\n",
      "File \u001b[0;32m~/repo/VesselSegmentation/Notebooks/../ml/BaseClasses/ClassTrainer.py:143\u001b[0m, in \u001b[0;36mTrainer.fit\u001b[0;34m(self, **args)\u001b[0m\n\u001b[1;32m    141\u001b[0m     \u001b[38;5;28mprint\u001b[39m(\u001b[38;5;124m\"\u001b[39m\u001b[38;5;124mUnexpected error:\u001b[39m\u001b[38;5;124m\"\u001b[39m, sys\u001b[38;5;241m.\u001b[39mexc_info())\n\u001b[1;32m    142\u001b[0m \u001b[38;5;28;01mfinally\u001b[39;00m:\n\u001b[0;32m--> 143\u001b[0m     \u001b[38;5;28;43mself\u001b[39;49m\u001b[38;5;241;43m.\u001b[39;49m\u001b[43mstop_event\u001b[49m\u001b[43m(\u001b[49m\u001b[43m)\u001b[49m\n",
      "File \u001b[0;32m~/repo/VesselSegmentation/Notebooks/../ml/ClassVesselTrainer.py:205\u001b[0m, in \u001b[0;36mVesselTrainer.stop_event\u001b[0;34m(self)\u001b[0m\n\u001b[1;32m    203\u001b[0m \u001b[38;5;28;01mdef\u001b[39;00m \u001b[38;5;21mstop_event\u001b[39m(\u001b[38;5;28mself\u001b[39m):\n\u001b[1;32m    204\u001b[0m     \u001b[38;5;28msuper\u001b[39m(VesselTrainer, \u001b[38;5;28mself\u001b[39m)\u001b[38;5;241m.\u001b[39mstop_event()\n\u001b[0;32m--> 205\u001b[0m     \u001b[38;5;28;01mif\u001b[39;00m \u001b[38;5;28;43mself\u001b[39;49m\u001b[38;5;241;43m.\u001b[39;49m\u001b[43mneptune_loger\u001b[49m:\n\u001b[1;32m    206\u001b[0m         \u001b[38;5;28mself\u001b[39m\u001b[38;5;241m.\u001b[39mneptune_loger\u001b[38;5;241m.\u001b[39mstop()\n",
      "\u001b[0;31mAttributeError\u001b[0m: 'VesselTrainer' object has no attribute 'neptune_loger'"
     ]
    }
   ],
   "source": [
    "trainer.fit(n_epochs=3,\n",
    "            train_loader=dataset.train_dataloader,\n",
    "            test_loader=dataset.test_dataloader)"
   ]
  },
  {
   "cell_type": "markdown",
   "id": "6a58b596-8d2c-4acb-aec0-7703d05487eb",
   "metadata": {
    "jp-MarkdownHeadingCollapsed": true
   },
   "source": [
    "## Inference"
   ]
  },
  {
   "cell_type": "code",
   "execution_count": 38,
   "id": "bde2e924-9e0f-49ad-9c1b-be24d08d647d",
   "metadata": {},
   "outputs": [],
   "source": [
    "metric_functions = {\n",
    "    \"DICE\" : F1_BINARY(),\n",
    "    \"PR\" : PRECISION_BINARY(),\n",
    "    \"RC\" : RECALL_BINARY(),\n",
    "    \"SP\" : SPECIFICITY_BINARY(),\n",
    "}\n",
    "\n",
    "runner_params = {\n",
    "    'device' : DEVICE,\n",
    "    'metric_functions' : metric_functions,\n",
    "    \"patch_shape\" : PATCH_SIZE_TEST,\n",
    "    \"overlap_shape\" : OVERLAP_TEST,\n",
    "    \"batch_size\" : 1,\n",
    "    \"num_workers\": 4,\n",
    "}\n",
    "\n",
    "runner = VesselInferenceAgent(runner_params)\n",
    "\n",
    "model_name_with_date = \"GenUnet_26_03_2024_01:35\"\n",
    "epoch = 10\n",
    "runner.load_from_trainer_state(\n",
    "    get_path(f\"{LOG_PATH}/{model_name_with_date}/state_dicts\", f'state_dict_epoch_{epoch}')\n",
    ")"
   ]
  },
  {
   "cell_type": "code",
   "execution_count": 40,
   "id": "d84dbea9-a60c-466a-b4c5-71ec9b9f76e8",
   "metadata": {},
   "outputs": [],
   "source": [
    "runner.threshold = None"
   ]
  },
  {
   "cell_type": "code",
   "execution_count": 41,
   "id": "5cc88419-d2ca-4520-aa30-22d747effaf9",
   "metadata": {},
   "outputs": [
    {
     "name": "stdout",
     "output_type": "stream",
     "text": [
      "1.4138813018798828\n"
     ]
    }
   ],
   "source": [
    "sample_index = \"300\"\n",
    "\n",
    "path_to_vol = get_path(f\"/home/msst/IXI_MRA_work/IXI{sample_index}\", key=\"head\")\n",
    "subject_dict = {'head': tio.ScalarImage(path_to_vol)}\n",
    "subject = tio.Subject(subject_dict)\n",
    "subject = tio.transforms.ZNormalization()(subject)\n",
    "\n",
    "t = time.time()\n",
    "seg = runner.single_predict(subject)\n",
    "print(time.time() - t)"
   ]
  },
  {
   "cell_type": "code",
   "execution_count": 42,
   "id": "c58fcd00-0e14-4853-9659-08f9a3d21eb5",
   "metadata": {},
   "outputs": [
    {
     "data": {
      "text/plain": [
       "tensor([1.5237e-35, 2.6731e-35, 3.5477e-35,  ..., 1.0000e+00, 1.0000e+00,\n",
       "        1.0000e+00])"
      ]
     },
     "execution_count": 42,
     "metadata": {},
     "output_type": "execute_result"
    }
   ],
   "source": [
    "seg.unique()"
   ]
  },
  {
   "cell_type": "code",
   "execution_count": 43,
   "id": "41db9612-0cc5-4225-a2a1-f6e3fcf02035",
   "metadata": {},
   "outputs": [],
   "source": [
    "dir_name = os.path.dirname(path_to_vol)\n",
    "path_to_save = f\"/home/msst/IXI_MRA_work/IXI{sample_index}/{model_name_with_date}.nii.gz\"\n",
    "save_vol_as_nii(seg, subject.head.affine, path_to_save)"
   ]
  },
  {
   "cell_type": "code",
   "execution_count": 49,
   "id": "02b94c76-a2a1-4878-b388-7f27ca7e12a1",
   "metadata": {},
   "outputs": [
    {
     "name": "stdout",
     "output_type": "stream",
     "text": [
      "{'DICE': '0.814698', 'AVGDIST': '1.107438', 'SPCFTY': '0.999706', 'PRCISON': '0.878064', 'SNSVTY': '0.759863'}\n",
      "\n"
     ]
    },
    {
     "data": {
      "text/plain": [
       "['Similarity:',\n",
       " 'DICE\\t= 0.814698\\tDice Coefficient (F1-Measure) ',\n",
       " 'JACRD\\t= 0.687334\\tJaccard Coefficient ',\n",
       " 'AUC\\t= 0.879785\\tArea under ROC Curve ',\n",
       " 'KAPPA\\t= 0.814220\\tCohen Kappa ',\n",
       " 'RNDIND\\t= 0.998084\\tRand Index ',\n",
       " 'ADJRIND\\t= 0.813436\\tAdjusted Rand Index ',\n",
       " 'ICCORR\\t= 0.831508\\tInterclass Correlation ',\n",
       " 'VOLSMTY\\t= 0.927835\\tVolumetric Similarity Coefficient ',\n",
       " 'MUTINF\\t= 0.018286\\tMutual Information ',\n",
       " '',\n",
       " 'Distance:',\n",
       " 'HDRFDST\\t= 58.949131\\tHausdorff Distance (in voxel)',\n",
       " 'AVGDIST\\t= 1.107438\\tAverage Hausdorff Distance (in voxel)',\n",
       " 'MAHLNBS\\t= 0.162250\\tMahanabolis Distance ',\n",
       " 'VARINFO\\t= 0.015334\\tVariation of Information ',\n",
       " 'GCOERR\\t= 0.001758\\tGlobal Consistency Error ',\n",
       " 'PROBDST\\t= 0.000892\\tProbabilistic Distance ',\n",
       " '',\n",
       " 'Classic Measures:',\n",
       " 'SNSVTY\\t= 0.759863\\tSensitivity (Recall, true positive rate) ',\n",
       " 'SPCFTY\\t= 0.999706\\tSpecificity (true negative rate) ',\n",
       " 'PRCISON\\t= 0.878064\\tPrecision (Confidence) ',\n",
       " 'FMEASR\\t= 0.814698\\tF-Measure ',\n",
       " 'ACURCY\\t= 0.999041\\tAccuracy ',\n",
       " 'FALLOUT\\t= 0.000294\\tFallout (false positive rate) ',\n",
       " 'TP\\t= 55253\\ttrue positive (in voxel)',\n",
       " 'FP\\t= 7673\\tfalse positive (in voxel)',\n",
       " 'TN\\t= 26134013\\ttrue negative (in voxel)',\n",
       " 'FN\\t= 17461\\tfalse negative (in voxel)',\n",
       " 'REFVOL\\t= 72714\\treference volume (in voxel)',\n",
       " 'SEGVOL\\t= 62926\\tsegmented volume (in voxel)',\n",
       " '',\n",
       " 'Total execution time= 6257 milliseconds',\n",
       " '',\n",
       " '',\n",
       " '  ---** VISCERAL 2013, www.visceral.eu **---',\n",
       " '',\n",
       " '']"
      ]
     },
     "execution_count": 49,
     "metadata": {},
     "output_type": "execute_result"
    }
   ],
   "source": [
    "import subprocess\n",
    "import re\n",
    "\n",
    "path_to_EvaluateSegmentation = '/home/msst/repo/MSRepo/VesselSegmentation/Inference/EvaluateSegmentation'\n",
    "\n",
    "GT_path = path_to_vol = get_path(f\"/home/msst/IXI_MRA_work/IXI{sample_index}\", key=\"vessels\")\n",
    "SEG_path = path_to_save\n",
    "\n",
    "command_output = subprocess.run([f\"{path_to_EvaluateSegmentation}\",\n",
    "                                    GT_path, SEG_path], stdout=subprocess.PIPE, text=True)\n",
    "command_output = command_output.stdout.split('\\n')\n",
    "\n",
    "metrics = [\"DICE\", \"AVGDIST\", \"SPCFTY\", \"PRCISON\", \"SNSVTY\"]\n",
    "metric_dict = {}\n",
    "for metric in metrics:\n",
    "    for line in command_output:\n",
    "        if re.search(metric, line):\n",
    "            metric_dict.update({metric : line.split('\\t')[1][2:]})\n",
    "\n",
    "\n",
    "print(metric_dict)\n",
    "print()\n",
    "command_output"
   ]
  },
  {
   "cell_type": "code",
   "execution_count": null,
   "id": "ebf518f7-1980-45d7-b323-a6dcdc4ae2cf",
   "metadata": {
    "jupyter": {
     "source_hidden": true
    }
   },
   "outputs": [],
   "source": [
    "GT_mask_path = path_to_save_masked\n",
    "SEG_mask_path = path_to_save_GT_masked\n",
    "\n",
    "command_output = subprocess.run([f\"{path_to_EvaluateSegmentation}\",\n",
    "                                    GT_mask_path, SEG_mask_path], stdout=subprocess.PIPE, text=True)\n",
    "command_output = command_output.stdout.split('\\n')\n",
    "metrics = [\"DICE\", \"AVGDIST\", \"SNSVTY\"]\n",
    "metric_dict_mask = {}\n",
    "for metric in metrics:\n",
    "    for line in command_output:\n",
    "        if re.search(metric, line):\n",
    "            metric_dict_mask.update({metric : line.split('\\t')[1][2:]})\n",
    "\n",
    "metric_dict_mask"
   ]
  }
 ],
 "metadata": {
  "kernelspec": {
   "display_name": "segenv",
   "language": "python",
   "name": "segenv"
  },
  "language_info": {
   "codemirror_mode": {
    "name": "ipython",
    "version": 3
   },
   "file_extension": ".py",
   "mimetype": "text/x-python",
   "name": "python",
   "nbconvert_exporter": "python",
   "pygments_lexer": "ipython3",
   "version": "3.10.13"
  }
 },
 "nbformat": 4,
 "nbformat_minor": 5
}
