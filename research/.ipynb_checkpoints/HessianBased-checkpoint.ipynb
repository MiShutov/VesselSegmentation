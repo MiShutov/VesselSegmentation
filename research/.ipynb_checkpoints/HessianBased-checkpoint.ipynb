{
 "cells": [
  {
   "cell_type": "code",
   "execution_count": 1,
   "id": "6ae572fa-ba2a-46c6-b12b-cb2f053cb0de",
   "metadata": {
    "tags": []
   },
   "outputs": [],
   "source": [
    "%load_ext autoreload\n",
    "%autoreload 2\n",
    "\n",
    "from torch.optim import Adam\n",
    "from torch.optim.lr_scheduler import StepLR\n",
    "import matplotlib.pyplot as plt\n",
    "\n",
    "import time\n",
    "from datetime import datetime\n",
    "from tqdm import tqdm"
   ]
  },
  {
   "cell_type": "code",
   "execution_count": 2,
   "id": "327f7528-8a18-49ca-839f-f8153af42360",
   "metadata": {
    "tags": []
   },
   "outputs": [],
   "source": [
    "import sys\n",
    "import os\n",
    "sys.path.append(os.path.dirname('../.'))\n",
    "sys.path.append(os.path.dirname('../ml/.'))\n",
    "from scripts.load_and_save import (get_dcm_info, get_dcm_vol, vox_size2affine,\n",
    "                                   load_nii_vol, save_vol_as_nii, raw2nifti)\n",
    "\n",
    "#from ml.get_model import get_model\n",
    "from ml.utils import get_total_params, load_pretrainned, test_model\n",
    "from ml.ControllerClass import Controller\n",
    "from ml.tio_dataset import TioDataset\n",
    "from ml.metrics import (DICE_Metric, JAC_Metric, SN_Metric, SP_Metric,\n",
    "                        IOU_Metric, ExponentialLogarithmicLoss, WeightedExpBCE)\n",
    "\n",
    "#from ml.models.HessNet import HessNet\n",
    "from ml.models.unet3d import U_Net\n",
    "from ml.models.unet2d import U_Net2d\n",
    "from ml.models.JoB_VS import Network\n",
    "from ml.transformers_models.UNETR import UNETR\n",
    "from ml.models.VesselConvs import JustConv, TwoConv\n",
    "\n",
    "from ml.models.GenUnet import GenUnet\n",
    "from ml.models.HessNet_new import HessNet, GenHessNet, SeqHessNet, HessUnet"
   ]
  },
  {
   "cell_type": "code",
   "execution_count": 3,
   "id": "615fd51a-fc8a-4c2f-b783-ed3ea024f52d",
   "metadata": {
    "jupyter": {
     "source_hidden": true
    },
    "tags": []
   },
   "outputs": [],
   "source": [
    "DEVICE = 'cuda'\n",
    "IS2D = 0"
   ]
  },
  {
   "cell_type": "code",
   "execution_count": 4,
   "id": "b3ef4c01-18d6-4b0f-b46d-76f6bbea1f17",
   "metadata": {
    "jupyter": {
     "source_hidden": true
    },
    "tags": []
   },
   "outputs": [],
   "source": [
    "if IS2D:\n",
    "    PATCH_SIZE_TRAIN = (512, 512, 1)\n",
    "    PATCH_SIZE_TEST = (512, 512, 1)\n",
    "    OVERLAP_TEST = (0, 0, 0)\n",
    "else:\n",
    "    PATCH_SIZE_TRAIN = (64, 64, 64)\n",
    "    PATCH_SIZE_TEST = (64, 64, 64)\n",
    "    OVERLAP_TEST = (4, 4, 4)\n",
    "\n",
    "train_settings  = {\n",
    "    \"patch_shape\" : PATCH_SIZE_TRAIN,\n",
    "    \"patches_per_volume\" : 32,\n",
    "    \"patches_queue_length\" : 1440,\n",
    "    \"batch_size\" : 8,\n",
    "    \"num_workers\": 4,\n",
    "    \"sampler\": \"uniform\",\n",
    "}\n",
    "\n",
    "test_settings = {\n",
    "    \"patch_shape\" : PATCH_SIZE_TEST,\n",
    "    \"overlap_shape\" : OVERLAP_TEST,\n",
    "    \"batch_size\" : 1,\n",
    "    \"num_workers\": 4,\n",
    "}\n",
    "\n",
    "data_dir = \"/home/msst/Documents/medtech/data/HessData_IXI\"\n",
    "dataset = TioDataset(data_dir,\n",
    "                 train_settings=train_settings,\n",
    "                 val_settings=None,#val_settings,\n",
    "                 test_settings=test_settings,)"
   ]
  },
  {
   "cell_type": "code",
   "execution_count": 5,
   "id": "85e677c3-b553-48ba-9621-a2e17fd6b587",
   "metadata": {
    "jupyter": {
     "source_hidden": true
    }
   },
   "outputs": [],
   "source": [
    "import torch\n",
    "import torch.nn as nn\n",
    "\n",
    "# m = HessBlock_new(in_channels=1,\n",
    "#                   projection_channels=8,\n",
    "#                   fc_channels=10,\n",
    "#                   act=nn.Sigmoid())\n",
    "\n",
    "m = HessNet(in_channels=1,\n",
    "            out_channels=1,\n",
    "            n_hess_blocks=4)\n",
    "\n",
    "# m = HessNet_(in_channels=1,\n",
    "#             out_channels=1,\n",
    "#             n_hess_blocks=4)\n",
    "\n",
    "# m = GenHessNet(in_channels=1,\n",
    "#             out_channels=1,\n",
    "#             n_hess_blocks=4)\n",
    "\n",
    "# m = SeqHessNet(in_channels=1,\n",
    "#                out_channels=1,\n",
    "#                n_hess_blocks=3)\n",
    "\n",
    "# m = HessUnet(in_channels=1,\n",
    "#              out_channels=1,\n",
    "#              n_hess_blocks=4)"
   ]
  },
  {
   "cell_type": "code",
   "execution_count": 6,
   "id": "2c8fe06e-0a25-4917-8906-37271b9279b3",
   "metadata": {
    "jupyter": {
     "source_hidden": true
    }
   },
   "outputs": [
    {
     "name": "stdout",
     "output_type": "stream",
     "text": [
      "torch.Size([8, 1, 64, 64, 64])\n"
     ]
    }
   ],
   "source": [
    "for data in dataset.train_dataloader:\n",
    "    input = data['head']['data']\n",
    "    gt = data['vessels']['data']\n",
    "    out = m(input)\n",
    "    print(out.shape)\n",
    "    break"
   ]
  },
  {
   "cell_type": "code",
   "execution_count": 8,
   "id": "ae2d710e-a469-4243-af56-7b700e39f8c4",
   "metadata": {
    "tags": []
   },
   "outputs": [
    {
     "ename": "NameError",
     "evalue": "name 'conv_block' is not defined",
     "output_type": "error",
     "traceback": [
      "\u001b[0;31m---------------------------------------------------------------------------\u001b[0m",
      "\u001b[0;31mNameError\u001b[0m                                 Traceback (most recent call last)",
      "Cell \u001b[0;32mIn[8], line 40\u001b[0m\n\u001b[1;32m      1\u001b[0m \u001b[38;5;66;03m#model = HessNet(start_scale=[0.8, 0.8, 1.2], device=DEVICE)\u001b[39;00m\n\u001b[1;32m      2\u001b[0m \u001b[38;5;66;03m#model = U_Net(channels=16) #Unet_8ch, Unet_16ch\u001b[39;00m\n\u001b[1;32m      3\u001b[0m \u001b[38;5;66;03m#model = U_Net2d(channels=16) #Unet_8ch, Unet_16ch\u001b[39;00m\n\u001b[0;32m   (...)\u001b[0m\n\u001b[1;32m     37\u001b[0m \u001b[38;5;66;03m#                  out_channels=1,\u001b[39;00m\n\u001b[1;32m     38\u001b[0m \u001b[38;5;66;03m#                  n_hess_blocks=4)\u001b[39;00m\n\u001b[0;32m---> 40\u001b[0m model \u001b[38;5;241m=\u001b[39m \u001b[43mUnet3d\u001b[49m\u001b[43m(\u001b[49m\u001b[43mdim\u001b[49m\u001b[38;5;241;43m=\u001b[39;49m\u001b[38;5;241;43m3\u001b[39;49m\u001b[43m,\u001b[49m\u001b[43m \u001b[49m\u001b[43min_channels\u001b[49m\u001b[38;5;241;43m=\u001b[39;49m\u001b[38;5;241;43m1\u001b[39;49m\u001b[43m,\u001b[49m\u001b[43m \u001b[49m\u001b[43mout_channels\u001b[49m\u001b[38;5;241;43m=\u001b[39;49m\u001b[38;5;241;43m1\u001b[39;49m\u001b[43m,\u001b[49m\n\u001b[1;32m     41\u001b[0m \u001b[43m               \u001b[49m\u001b[43mchannels\u001b[49m\u001b[38;5;241;43m=\u001b[39;49m\u001b[38;5;241;43m8\u001b[39;49m\u001b[43m,\u001b[49m\u001b[43m \u001b[49m\u001b[43mdepth\u001b[49m\u001b[38;5;241;43m=\u001b[39;49m\u001b[38;5;241;43m1\u001b[39;49m\u001b[43m)\u001b[49m\n\u001b[1;32m     43\u001b[0m \u001b[38;5;28mprint\u001b[39m(\u001b[38;5;124m\"\u001b[39m\u001b[38;5;124mtotal_params:\u001b[39m\u001b[38;5;124m\"\u001b[39m, get_total_params(model))\n",
      "File \u001b[0;32m~/repo/MSRepo/VesselSegmentation/research/../ml/models/GenUnet.py:84\u001b[0m, in \u001b[0;36mUnet3d.__init__\u001b[0;34m(self, dim, in_channels, out_channels, channels, act, depth)\u001b[0m\n\u001b[1;32m     81\u001b[0m \u001b[38;5;28;01mfor\u001b[39;00m i \u001b[38;5;129;01min\u001b[39;00m \u001b[38;5;28mrange\u001b[39m(\u001b[38;5;241m1\u001b[39m, depth\u001b[38;5;241m+\u001b[39m\u001b[38;5;241m1\u001b[39m):\n\u001b[1;32m     82\u001b[0m     \u001b[38;5;66;03m#self.Pools.append(nn.MaxPool3d(kernel_size=2, stride=2))\u001b[39;00m\n\u001b[1;32m     83\u001b[0m     \u001b[38;5;28mself\u001b[39m\u001b[38;5;241m.\u001b[39mPools\u001b[38;5;241m.\u001b[39mappend(DownSampleModule(dim\u001b[38;5;241m=\u001b[39mdim, mode\u001b[38;5;241m=\u001b[39m\u001b[38;5;124m'\u001b[39m\u001b[38;5;124mmax_pool\u001b[39m\u001b[38;5;124m'\u001b[39m, down_coef\u001b[38;5;241m=\u001b[39m\u001b[38;5;241m2\u001b[39m))\n\u001b[0;32m---> 84\u001b[0m     \u001b[38;5;28mself\u001b[39m\u001b[38;5;241m.\u001b[39mConvs\u001b[38;5;241m.\u001b[39mappend(\u001b[43mGenConvBlock\u001b[49m\u001b[43m(\u001b[49m\u001b[43mdim\u001b[49m\u001b[38;5;241;43m=\u001b[39;49m\u001b[43mdim\u001b[49m\u001b[43m,\u001b[49m\u001b[43m \u001b[49m\u001b[43min_channels\u001b[49m\u001b[38;5;241;43m=\u001b[39;49m\u001b[43mfilters\u001b[49m\u001b[43m[\u001b[49m\u001b[43mi\u001b[49m\u001b[43m]\u001b[49m\u001b[43m,\u001b[49m\u001b[43m \u001b[49m\u001b[43mout_channels\u001b[49m\u001b[38;5;241;43m=\u001b[39;49m\u001b[43mfilters\u001b[49m\u001b[43m[\u001b[49m\u001b[43mi\u001b[49m\u001b[38;5;241;43m+\u001b[39;49m\u001b[38;5;241;43m1\u001b[39;49m\u001b[43m]\u001b[49m\u001b[43m)\u001b[49m)\n\u001b[1;32m     85\u001b[0m     \u001b[38;5;28mself\u001b[39m\u001b[38;5;241m.\u001b[39mUpConvs\u001b[38;5;241m.\u001b[39mappend(GenConvBlock(dim\u001b[38;5;241m=\u001b[39mdim, in_channels\u001b[38;5;241m=\u001b[39mfilters[i\u001b[38;5;241m+\u001b[39m\u001b[38;5;241m1\u001b[39m], out_channels\u001b[38;5;241m=\u001b[39mfilters[i]))\n\u001b[1;32m     86\u001b[0m     \u001b[38;5;28mself\u001b[39m\u001b[38;5;241m.\u001b[39mUps\u001b[38;5;241m.\u001b[39mappend(UpSampleModule(in_channels\u001b[38;5;241m=\u001b[39mfilters[i\u001b[38;5;241m+\u001b[39m\u001b[38;5;241m1\u001b[39m], out_channels\u001b[38;5;241m=\u001b[39mfilters[i], dim\u001b[38;5;241m=\u001b[39mdim,\n\u001b[1;32m     87\u001b[0m                                    mode\u001b[38;5;241m=\u001b[39m\u001b[38;5;124m'\u001b[39m\u001b[38;5;124mconv\u001b[39m\u001b[38;5;124m'\u001b[39m, up_coef\u001b[38;5;241m=\u001b[39m\u001b[38;5;241m2\u001b[39m, conv_kernel_size\u001b[38;5;241m=\u001b[39m\u001b[38;5;241m3\u001b[39m, norm\u001b[38;5;241m=\u001b[39m\u001b[38;5;124m'\u001b[39m\u001b[38;5;124mbatch_norm\u001b[39m\u001b[38;5;124m'\u001b[39m,\n\u001b[1;32m     88\u001b[0m                                    layer_norm_shape\u001b[38;5;241m=\u001b[39m\u001b[38;5;28;01mNone\u001b[39;00m, act\u001b[38;5;241m=\u001b[39m\u001b[38;5;124m'\u001b[39m\u001b[38;5;124mrelu\u001b[39m\u001b[38;5;124m'\u001b[39m))\n",
      "File \u001b[0;32m~/repo/MSRepo/VesselSegmentation/research/../ml/models/GenUnet.py:13\u001b[0m, in \u001b[0;36mGenConvBlock.__init__\u001b[0;34m(self, dim, in_channels, out_channels, kernel_size, bias, act)\u001b[0m\n\u001b[1;32m     11\u001b[0m \u001b[38;5;28;01mdef\u001b[39;00m \u001b[38;5;21m__init__\u001b[39m(\u001b[38;5;28mself\u001b[39m, dim, in_channels, out_channels,\n\u001b[1;32m     12\u001b[0m              kernel_size\u001b[38;5;241m=\u001b[39m\u001b[38;5;241m3\u001b[39m, bias\u001b[38;5;241m=\u001b[39m\u001b[38;5;28;01mTrue\u001b[39;00m, act\u001b[38;5;241m=\u001b[39m\u001b[38;5;124m'\u001b[39m\u001b[38;5;124mrelu\u001b[39m\u001b[38;5;124m'\u001b[39m):\n\u001b[0;32m---> 13\u001b[0m     \u001b[38;5;28msuper\u001b[39m(\u001b[43mconv_block\u001b[49m, \u001b[38;5;28mself\u001b[39m)\u001b[38;5;241m.\u001b[39m\u001b[38;5;21m__init__\u001b[39m()\n\u001b[1;32m     15\u001b[0m     \u001b[38;5;28mself\u001b[39m\u001b[38;5;241m.\u001b[39mconv1 \u001b[38;5;241m=\u001b[39m ConvModule(in_channels\u001b[38;5;241m=\u001b[39min_channels,\n\u001b[1;32m     16\u001b[0m                             out_channels\u001b[38;5;241m=\u001b[39mout_channels,\n\u001b[1;32m     17\u001b[0m                             kernel_size\u001b[38;5;241m=\u001b[39mkernel_size,\n\u001b[0;32m   (...)\u001b[0m\n\u001b[1;32m     22\u001b[0m                             order\u001b[38;5;241m=\u001b[39m(\u001b[38;5;124m'\u001b[39m\u001b[38;5;124mconv\u001b[39m\u001b[38;5;124m'\u001b[39m, \u001b[38;5;124m'\u001b[39m\u001b[38;5;124mnorm\u001b[39m\u001b[38;5;124m'\u001b[39m, \u001b[38;5;124m'\u001b[39m\u001b[38;5;124mact\u001b[39m\u001b[38;5;124m'\u001b[39m),\n\u001b[1;32m     23\u001b[0m                             bias\u001b[38;5;241m=\u001b[39mbias)\n\u001b[1;32m     25\u001b[0m     \u001b[38;5;28mself\u001b[39m\u001b[38;5;241m.\u001b[39mconv2 \u001b[38;5;241m=\u001b[39m ConvModule(in_channels\u001b[38;5;241m=\u001b[39mout_channels,\n\u001b[1;32m     26\u001b[0m                             out_channels\u001b[38;5;241m=\u001b[39mout_channels,\n\u001b[1;32m     27\u001b[0m                             kernel_size\u001b[38;5;241m=\u001b[39mkernel_size,\n\u001b[0;32m   (...)\u001b[0m\n\u001b[1;32m     32\u001b[0m                             order\u001b[38;5;241m=\u001b[39m(\u001b[38;5;124m'\u001b[39m\u001b[38;5;124mconv\u001b[39m\u001b[38;5;124m'\u001b[39m, \u001b[38;5;124m'\u001b[39m\u001b[38;5;124mnorm\u001b[39m\u001b[38;5;124m'\u001b[39m, \u001b[38;5;124m'\u001b[39m\u001b[38;5;124mact\u001b[39m\u001b[38;5;124m'\u001b[39m),\n\u001b[1;32m     33\u001b[0m                             bias\u001b[38;5;241m=\u001b[39mbias)\n",
      "\u001b[0;31mNameError\u001b[0m: name 'conv_block' is not defined"
     ]
    }
   ],
   "source": [
    "#model = HessNet(start_scale=[0.8, 0.8, 1.2], device=DEVICE)\n",
    "#model = U_Net(channels=16) #Unet_8ch, Unet_16ch\n",
    "#model = U_Net2d(channels=16) #Unet_8ch, Unet_16ch\n",
    "\n",
    "# model = UNETR(in_channels=1, out_channels=1, img_size=PATCH_SIZE_TRAIN,\n",
    "#               feature_size=16, hidden_size=128,\n",
    "#               mlp_dim=512, num_heads=4,\n",
    "#               norm_name='batch')\n",
    "\n",
    "#model = Network(modalities=1, num_classes=1)\n",
    "\n",
    "#model = JustConv(1, 1)\n",
    "#model = TwoConv(1, 1, 5)\n",
    "\n",
    "# model = HessBlock_new(in_channels=1,\n",
    "#                       projection_channels=8,\n",
    "#                       fc_channels=10,\n",
    "#                       act=nn.Sigmoid())\n",
    "\n",
    "# model = HessNet(in_channels=1,\n",
    "#                 out_channels=1,\n",
    "#                 n_hess_blocks=4)\n",
    "\n",
    "# model = HessNet_(in_channels=1,\n",
    "#                    out_channels=1,\n",
    "#                    n_hess_blocks=4)\n",
    "\n",
    "# model = GenHessNet(in_channels=1,\n",
    "#                    out_channels=1,\n",
    "#                    n_hess_blocks=4)\n",
    "\n",
    "# model = SeqHessNet(in_channels=1,\n",
    "#                    out_channels=1,\n",
    "#                    n_hess_blocks=3)\n",
    "\n",
    "# model = HessUnet(in_channels=1,\n",
    "#                  out_channels=1,\n",
    "#                  n_hess_blocks=4)\n",
    "\n",
    "model = Unet3d(dim=3, in_channels=1, out_channels=1,\n",
    "               channels=8, depth=1)\n",
    "\n",
    "print(\"total_params:\", get_total_params(model))"
   ]
  },
  {
   "cell_type": "code",
   "execution_count": 20,
   "id": "9c1aaab1-30dc-40ff-a22a-f5479c509fd3",
   "metadata": {},
   "outputs": [
    {
     "data": {
      "text/plain": [
       "Unet3d(\n",
       "  (Pools): ModuleList(\n",
       "    (0): MaxPool3d(kernel_size=2, stride=2, padding=0, dilation=1, ceil_mode=False)\n",
       "  )\n",
       "  (Convs): ModuleList(\n",
       "    (0): conv_block(\n",
       "      (conv): Sequential(\n",
       "        (0): Conv3d(8, 16, kernel_size=(3, 3, 3), stride=(1, 1, 1), padding=(1, 1, 1))\n",
       "        (1): BatchNorm3d(16, eps=1e-05, momentum=0.1, affine=True, track_running_stats=True)\n",
       "        (2): ReLU(inplace=True)\n",
       "        (3): Conv3d(16, 16, kernel_size=(3, 3, 3), stride=(1, 1, 1), padding=(1, 1, 1))\n",
       "        (4): BatchNorm3d(16, eps=1e-05, momentum=0.1, affine=True, track_running_stats=True)\n",
       "        (5): ReLU(inplace=True)\n",
       "      )\n",
       "    )\n",
       "  )\n",
       "  (UpConvs): ModuleList(\n",
       "    (0): conv_block(\n",
       "      (conv): Sequential(\n",
       "        (0): Conv3d(16, 8, kernel_size=(3, 3, 3), stride=(1, 1, 1), padding=(1, 1, 1))\n",
       "        (1): BatchNorm3d(8, eps=1e-05, momentum=0.1, affine=True, track_running_stats=True)\n",
       "        (2): ReLU(inplace=True)\n",
       "        (3): Conv3d(8, 8, kernel_size=(3, 3, 3), stride=(1, 1, 1), padding=(1, 1, 1))\n",
       "        (4): BatchNorm3d(8, eps=1e-05, momentum=0.1, affine=True, track_running_stats=True)\n",
       "        (5): ReLU(inplace=True)\n",
       "      )\n",
       "    )\n",
       "  )\n",
       "  (Ups): ModuleList(\n",
       "    (0): up_conv(\n",
       "      (up): Sequential(\n",
       "        (0): Upsample(scale_factor=2.0, mode='nearest')\n",
       "        (1): Conv3d(16, 8, kernel_size=(3, 3, 3), stride=(1, 1, 1), padding=(1, 1, 1))\n",
       "        (2): BatchNorm3d(8, eps=1e-05, momentum=0.1, affine=True, track_running_stats=True)\n",
       "        (3): ReLU(inplace=True)\n",
       "      )\n",
       "    )\n",
       "  )\n",
       "  (inConv): conv_block(\n",
       "    (conv): Sequential(\n",
       "      (0): Conv3d(1, 8, kernel_size=(3, 3, 3), stride=(1, 1, 1), padding=(1, 1, 1))\n",
       "      (1): BatchNorm3d(8, eps=1e-05, momentum=0.1, affine=True, track_running_stats=True)\n",
       "      (2): ReLU(inplace=True)\n",
       "      (3): Conv3d(8, 8, kernel_size=(3, 3, 3), stride=(1, 1, 1), padding=(1, 1, 1))\n",
       "      (4): BatchNorm3d(8, eps=1e-05, momentum=0.1, affine=True, track_running_stats=True)\n",
       "      (5): ReLU(inplace=True)\n",
       "    )\n",
       "  )\n",
       "  (outConv): Conv3d(8, 1, kernel_size=(3, 3, 3), stride=(1, 1, 1), padding=(1, 1, 1))\n",
       "  (act): Sigmoid()\n",
       ")"
      ]
     },
     "execution_count": 20,
     "metadata": {},
     "output_type": "execute_result"
    }
   ],
   "source": [
    "model21385"
   ]
  },
  {
   "cell_type": "code",
   "execution_count": 21,
   "id": "180fc3eb-36a7-46d0-8585-5f6b51dc61fa",
   "metadata": {
    "tags": []
   },
   "outputs": [],
   "source": [
    "controller_config = {\n",
    "    \"loss\" : ExponentialLogarithmicLoss(gamma_tversky=0.5, gamma_bce=0.5, lamb=0.5,\n",
    "                                        freq = 0.1, tversky_alfa=0.5),\n",
    "    # \"loss\" : ExponentialLogarithmicLoss(gamma_tversky=0.5, gamma_bce=0.5, lamb=0.1,\n",
    "    #                                     freq = 0.1, tversky_alfa=0.2),\n",
    "    \"metric\" : DICE_Metric(),\n",
    "    'device' : DEVICE,\n",
    "    \"model\" : model,\n",
    "    \"optimizer_fn\" : lambda model: Adam(model.parameters(), lr=0.02),\n",
    "    \"sheduler_fn\": None, #lambda optimizer: StepLR(optimizer, step_size=1, gamma=0.9),\n",
    "    \"is2d\" : IS2D,\n",
    "    'verbose' : True,\n",
    "    'stoper' : None\n",
    "}\n",
    "controller = Controller(controller_config)"
   ]
  },
  {
   "cell_type": "code",
   "execution_count": 22,
   "id": "d2c62da7-c0b0-434f-b2a9-536b06c985bd",
   "metadata": {
    "collapsed": true,
    "jupyter": {
     "outputs_hidden": true
    },
    "tags": []
   },
   "outputs": [
    {
     "name": "stdout",
     "output_type": "stream",
     "text": [
      "Epoch 1/50\n"
     ]
    },
    {
     "name": "stderr",
     "output_type": "stream",
     "text": [
      "100%|███████████████████████████████████████████| 64/64 [00:17<00:00,  3.75it/s]\n"
     ]
    },
    {
     "name": "stdout",
     "output_type": "stream",
     "text": [
      "{'mean_loss': 0.5472060926258564}\n"
     ]
    },
    {
     "name": "stderr",
     "output_type": "stream",
     "text": [
      "100%|█████████████████████████████████████████████| 3/3 [00:04<00:00,  1.39s/it]\n"
     ]
    },
    {
     "name": "stdout",
     "output_type": "stream",
     "text": [
      "{'sample': 'IXI052_0', 'metric': tensor([0.6814])}\n",
      "{'sample': 'IXI080_0', 'metric': tensor([0.6859])}\n",
      "{'sample': 'IXI020_0', 'metric': tensor([0.7628])}\n",
      "new best!\n",
      "Epoch 2/50\n"
     ]
    },
    {
     "name": "stderr",
     "output_type": "stream",
     "text": [
      "100%|███████████████████████████████████████████| 64/64 [00:15<00:00,  4.23it/s]\n"
     ]
    },
    {
     "name": "stdout",
     "output_type": "stream",
     "text": [
      "{'mean_loss': 0.32334106182679534}\n"
     ]
    },
    {
     "name": "stderr",
     "output_type": "stream",
     "text": [
      "100%|█████████████████████████████████████████████| 3/3 [00:04<00:00,  1.41s/it]\n"
     ]
    },
    {
     "name": "stdout",
     "output_type": "stream",
     "text": [
      "{'sample': 'IXI052_0', 'metric': tensor([0.7470])}\n",
      "{'sample': 'IXI080_0', 'metric': tensor([0.7571])}\n",
      "{'sample': 'IXI020_0', 'metric': tensor([0.8040])}\n",
      "new best!\n",
      "Epoch 3/50\n"
     ]
    },
    {
     "name": "stderr",
     "output_type": "stream",
     "text": [
      "100%|███████████████████████████████████████████| 64/64 [00:15<00:00,  4.08it/s]\n"
     ]
    },
    {
     "name": "stdout",
     "output_type": "stream",
     "text": [
      "{'mean_loss': 0.2960339621640742}\n"
     ]
    },
    {
     "name": "stderr",
     "output_type": "stream",
     "text": [
      "100%|█████████████████████████████████████████████| 3/3 [00:04<00:00,  1.50s/it]\n"
     ]
    },
    {
     "name": "stdout",
     "output_type": "stream",
     "text": [
      "{'sample': 'IXI052_0', 'metric': tensor([0.7881])}\n",
      "{'sample': 'IXI080_0', 'metric': tensor([0.8023])}\n",
      "{'sample': 'IXI020_0', 'metric': tensor([0.8470])}\n",
      "new best!\n",
      "Epoch 4/50\n"
     ]
    },
    {
     "name": "stderr",
     "output_type": "stream",
     "text": [
      "100%|███████████████████████████████████████████| 64/64 [00:15<00:00,  4.01it/s]\n"
     ]
    },
    {
     "name": "stdout",
     "output_type": "stream",
     "text": [
      "{'mean_loss': 0.29611397068947554}\n"
     ]
    },
    {
     "name": "stderr",
     "output_type": "stream",
     "text": [
      "100%|█████████████████████████████████████████████| 3/3 [00:04<00:00,  1.42s/it]\n"
     ]
    },
    {
     "name": "stdout",
     "output_type": "stream",
     "text": [
      "{'sample': 'IXI052_0', 'metric': tensor([0.8056])}\n",
      "{'sample': 'IXI080_0', 'metric': tensor([0.8225])}\n",
      "{'sample': 'IXI020_0', 'metric': tensor([0.8667])}\n",
      "new best!\n",
      "Epoch 5/50\n"
     ]
    },
    {
     "name": "stderr",
     "output_type": "stream",
     "text": [
      "100%|███████████████████████████████████████████| 64/64 [00:16<00:00,  3.99it/s]\n"
     ]
    },
    {
     "name": "stdout",
     "output_type": "stream",
     "text": [
      "{'mean_loss': 0.30204178858548403}\n"
     ]
    },
    {
     "name": "stderr",
     "output_type": "stream",
     "text": [
      "100%|█████████████████████████████████████████████| 3/3 [00:04<00:00,  1.42s/it]\n"
     ]
    },
    {
     "name": "stdout",
     "output_type": "stream",
     "text": [
      "{'sample': 'IXI052_0', 'metric': tensor([0.8162])}\n",
      "{'sample': 'IXI080_0', 'metric': tensor([0.8318])}\n",
      "{'sample': 'IXI020_0', 'metric': tensor([0.8695])}\n",
      "new best!\n",
      "Epoch 6/50\n"
     ]
    },
    {
     "name": "stderr",
     "output_type": "stream",
     "text": [
      "100%|███████████████████████████████████████████| 64/64 [00:15<00:00,  4.20it/s]\n"
     ]
    },
    {
     "name": "stdout",
     "output_type": "stream",
     "text": [
      "{'mean_loss': 0.2699868557974696}\n"
     ]
    },
    {
     "name": "stderr",
     "output_type": "stream",
     "text": [
      "100%|█████████████████████████████████████████████| 3/3 [00:04<00:00,  1.43s/it]\n"
     ]
    },
    {
     "name": "stdout",
     "output_type": "stream",
     "text": [
      "{'sample': 'IXI052_0', 'metric': tensor([0.8274])}\n",
      "{'sample': 'IXI080_0', 'metric': tensor([0.8445])}\n",
      "{'sample': 'IXI020_0', 'metric': tensor([0.8777])}\n",
      "new best!\n",
      "Epoch 7/50\n"
     ]
    },
    {
     "name": "stderr",
     "output_type": "stream",
     "text": [
      "100%|███████████████████████████████████████████| 64/64 [00:16<00:00,  3.94it/s]\n"
     ]
    },
    {
     "name": "stdout",
     "output_type": "stream",
     "text": [
      "{'mean_loss': 0.2949766090605408}\n"
     ]
    },
    {
     "name": "stderr",
     "output_type": "stream",
     "text": [
      "100%|█████████████████████████████████████████████| 3/3 [00:04<00:00,  1.40s/it]\n"
     ]
    },
    {
     "name": "stdout",
     "output_type": "stream",
     "text": [
      "{'sample': 'IXI052_0', 'metric': tensor([0.8365])}\n",
      "{'sample': 'IXI080_0', 'metric': tensor([0.8552])}\n",
      "{'sample': 'IXI020_0', 'metric': tensor([0.8819])}\n",
      "new best!\n",
      "Epoch 8/50\n"
     ]
    },
    {
     "name": "stderr",
     "output_type": "stream",
     "text": [
      "100%|███████████████████████████████████████████| 64/64 [00:16<00:00,  3.95it/s]\n"
     ]
    },
    {
     "name": "stdout",
     "output_type": "stream",
     "text": [
      "{'mean_loss': 0.2538251329679042}\n"
     ]
    },
    {
     "name": "stderr",
     "output_type": "stream",
     "text": [
      "100%|█████████████████████████████████████████████| 3/3 [00:04<00:00,  1.40s/it]\n"
     ]
    },
    {
     "name": "stdout",
     "output_type": "stream",
     "text": [
      "{'sample': 'IXI052_0', 'metric': tensor([0.8463])}\n",
      "{'sample': 'IXI080_0', 'metric': tensor([0.8672])}\n",
      "{'sample': 'IXI020_0', 'metric': tensor([0.8880])}\n",
      "new best!\n",
      "Epoch 9/50\n"
     ]
    },
    {
     "name": "stderr",
     "output_type": "stream",
     "text": [
      "100%|███████████████████████████████████████████| 64/64 [00:15<00:00,  4.01it/s]\n"
     ]
    },
    {
     "name": "stdout",
     "output_type": "stream",
     "text": [
      "{'mean_loss': 0.26182804838754237}\n"
     ]
    },
    {
     "name": "stderr",
     "output_type": "stream",
     "text": [
      "100%|█████████████████████████████████████████████| 3/3 [00:04<00:00,  1.41s/it]\n"
     ]
    },
    {
     "name": "stdout",
     "output_type": "stream",
     "text": [
      "{'sample': 'IXI052_0', 'metric': tensor([0.8446])}\n",
      "{'sample': 'IXI080_0', 'metric': tensor([0.8672])}\n",
      "{'sample': 'IXI020_0', 'metric': tensor([0.8912])}\n",
      "new best!\n",
      "Epoch 10/50\n"
     ]
    },
    {
     "name": "stderr",
     "output_type": "stream",
     "text": [
      "100%|███████████████████████████████████████████| 64/64 [00:16<00:00,  4.00it/s]\n"
     ]
    },
    {
     "name": "stdout",
     "output_type": "stream",
     "text": [
      "{'mean_loss': 0.2683040462434292}\n"
     ]
    },
    {
     "name": "stderr",
     "output_type": "stream",
     "text": [
      "100%|█████████████████████████████████████████████| 3/3 [00:04<00:00,  1.43s/it]\n"
     ]
    },
    {
     "name": "stdout",
     "output_type": "stream",
     "text": [
      "{'sample': 'IXI052_0', 'metric': tensor([0.8479])}\n",
      "{'sample': 'IXI080_0', 'metric': tensor([0.8716])}\n",
      "{'sample': 'IXI020_0', 'metric': tensor([0.8958])}\n",
      "new best!\n",
      "Epoch 11/50\n"
     ]
    },
    {
     "name": "stderr",
     "output_type": "stream",
     "text": [
      "100%|███████████████████████████████████████████| 64/64 [00:15<00:00,  4.08it/s]\n"
     ]
    },
    {
     "name": "stdout",
     "output_type": "stream",
     "text": [
      "{'mean_loss': 0.25801488012075424}\n"
     ]
    },
    {
     "name": "stderr",
     "output_type": "stream",
     "text": [
      "100%|█████████████████████████████████████████████| 3/3 [00:04<00:00,  1.39s/it]\n"
     ]
    },
    {
     "name": "stdout",
     "output_type": "stream",
     "text": [
      "{'sample': 'IXI052_0', 'metric': tensor([0.8481])}\n",
      "{'sample': 'IXI080_0', 'metric': tensor([0.8720])}\n",
      "{'sample': 'IXI020_0', 'metric': tensor([0.8997])}\n",
      "new best!\n",
      "Epoch 12/50\n"
     ]
    },
    {
     "name": "stderr",
     "output_type": "stream",
     "text": [
      "100%|███████████████████████████████████████████| 64/64 [00:15<00:00,  4.03it/s]\n"
     ]
    },
    {
     "name": "stdout",
     "output_type": "stream",
     "text": [
      "{'mean_loss': 0.2537145772948861}\n"
     ]
    },
    {
     "name": "stderr",
     "output_type": "stream",
     "text": [
      "100%|█████████████████████████████████████████████| 3/3 [00:04<00:00,  1.40s/it]\n"
     ]
    },
    {
     "name": "stdout",
     "output_type": "stream",
     "text": [
      "{'sample': 'IXI052_0', 'metric': tensor([0.8519])}\n",
      "{'sample': 'IXI080_0', 'metric': tensor([0.8757])}\n",
      "{'sample': 'IXI020_0', 'metric': tensor([0.9011])}\n",
      "new best!\n",
      "Epoch 13/50\n"
     ]
    },
    {
     "name": "stderr",
     "output_type": "stream",
     "text": [
      "100%|███████████████████████████████████████████| 64/64 [00:15<00:00,  4.03it/s]\n"
     ]
    },
    {
     "name": "stdout",
     "output_type": "stream",
     "text": [
      "{'mean_loss': 0.27691330621019006}\n"
     ]
    },
    {
     "name": "stderr",
     "output_type": "stream",
     "text": [
      "100%|█████████████████████████████████████████████| 3/3 [00:04<00:00,  1.41s/it]\n"
     ]
    },
    {
     "name": "stdout",
     "output_type": "stream",
     "text": [
      "{'sample': 'IXI052_0', 'metric': tensor([0.8520])}\n",
      "{'sample': 'IXI080_0', 'metric': tensor([0.8756])}\n",
      "{'sample': 'IXI020_0', 'metric': tensor([0.9016])}\n",
      "new best!\n",
      "Epoch 14/50\n"
     ]
    },
    {
     "name": "stderr",
     "output_type": "stream",
     "text": [
      "100%|███████████████████████████████████████████| 64/64 [00:16<00:00,  3.99it/s]\n"
     ]
    },
    {
     "name": "stdout",
     "output_type": "stream",
     "text": [
      "{'mean_loss': 0.28189343004487455}\n"
     ]
    },
    {
     "name": "stderr",
     "output_type": "stream",
     "text": [
      "100%|█████████████████████████████████████████████| 3/3 [00:04<00:00,  1.43s/it]\n"
     ]
    },
    {
     "name": "stdout",
     "output_type": "stream",
     "text": [
      "{'sample': 'IXI052_0', 'metric': tensor([0.8539])}\n",
      "{'sample': 'IXI080_0', 'metric': tensor([0.8775])}\n",
      "{'sample': 'IXI020_0', 'metric': tensor([0.9036])}\n",
      "new best!\n",
      "Epoch 15/50\n"
     ]
    },
    {
     "name": "stderr",
     "output_type": "stream",
     "text": [
      "100%|███████████████████████████████████████████| 64/64 [00:16<00:00,  3.93it/s]\n"
     ]
    },
    {
     "name": "stdout",
     "output_type": "stream",
     "text": [
      "{'mean_loss': 0.258957328973338}\n"
     ]
    },
    {
     "name": "stderr",
     "output_type": "stream",
     "text": [
      "100%|█████████████████████████████████████████████| 3/3 [00:04<00:00,  1.45s/it]\n"
     ]
    },
    {
     "name": "stdout",
     "output_type": "stream",
     "text": [
      "{'sample': 'IXI052_0', 'metric': tensor([0.8569])}\n",
      "{'sample': 'IXI080_0', 'metric': tensor([0.8808])}\n",
      "{'sample': 'IXI020_0', 'metric': tensor([0.9067])}\n",
      "new best!\n",
      "Epoch 16/50\n"
     ]
    },
    {
     "name": "stderr",
     "output_type": "stream",
     "text": [
      "100%|███████████████████████████████████████████| 64/64 [00:16<00:00,  3.92it/s]\n"
     ]
    },
    {
     "name": "stdout",
     "output_type": "stream",
     "text": [
      "{'mean_loss': 0.24282936449162662}\n"
     ]
    },
    {
     "name": "stderr",
     "output_type": "stream",
     "text": [
      "100%|█████████████████████████████████████████████| 3/3 [00:04<00:00,  1.44s/it]\n"
     ]
    },
    {
     "name": "stdout",
     "output_type": "stream",
     "text": [
      "{'sample': 'IXI052_0', 'metric': tensor([0.8586])}\n",
      "{'sample': 'IXI080_0', 'metric': tensor([0.8822])}\n",
      "{'sample': 'IXI020_0', 'metric': tensor([0.9095])}\n",
      "new best!\n",
      "Epoch 17/50\n"
     ]
    },
    {
     "name": "stderr",
     "output_type": "stream",
     "text": [
      "100%|███████████████████████████████████████████| 64/64 [00:15<00:00,  4.00it/s]\n"
     ]
    },
    {
     "name": "stdout",
     "output_type": "stream",
     "text": [
      "{'mean_loss': 0.24035920924507082}\n"
     ]
    },
    {
     "name": "stderr",
     "output_type": "stream",
     "text": [
      "100%|█████████████████████████████████████████████| 3/3 [00:04<00:00,  1.40s/it]\n"
     ]
    },
    {
     "name": "stdout",
     "output_type": "stream",
     "text": [
      "{'sample': 'IXI052_0', 'metric': tensor([0.8605])}\n",
      "{'sample': 'IXI080_0', 'metric': tensor([0.8837])}\n",
      "{'sample': 'IXI020_0', 'metric': tensor([0.9110])}\n",
      "new best!\n",
      "Epoch 18/50\n"
     ]
    },
    {
     "name": "stderr",
     "output_type": "stream",
     "text": [
      "100%|███████████████████████████████████████████| 64/64 [00:16<00:00,  3.93it/s]\n"
     ]
    },
    {
     "name": "stdout",
     "output_type": "stream",
     "text": [
      "{'mean_loss': 0.24795990390703082}\n"
     ]
    },
    {
     "name": "stderr",
     "output_type": "stream",
     "text": [
      "100%|█████████████████████████████████████████████| 3/3 [00:04<00:00,  1.41s/it]\n"
     ]
    },
    {
     "name": "stdout",
     "output_type": "stream",
     "text": [
      "{'sample': 'IXI052_0', 'metric': tensor([0.8642])}\n",
      "{'sample': 'IXI080_0', 'metric': tensor([0.8868])}\n",
      "{'sample': 'IXI020_0', 'metric': tensor([0.9128])}\n",
      "new best!\n",
      "Epoch 19/50\n"
     ]
    },
    {
     "name": "stderr",
     "output_type": "stream",
     "text": [
      "100%|███████████████████████████████████████████| 64/64 [00:16<00:00,  3.82it/s]\n"
     ]
    },
    {
     "name": "stdout",
     "output_type": "stream",
     "text": [
      "{'mean_loss': 0.252792167942971}\n"
     ]
    },
    {
     "name": "stderr",
     "output_type": "stream",
     "text": [
      "100%|█████████████████████████████████████████████| 3/3 [00:04<00:00,  1.40s/it]\n"
     ]
    },
    {
     "name": "stdout",
     "output_type": "stream",
     "text": [
      "{'sample': 'IXI052_0', 'metric': tensor([0.8671])}\n",
      "{'sample': 'IXI080_0', 'metric': tensor([0.8898])}\n",
      "{'sample': 'IXI020_0', 'metric': tensor([0.9148])}\n",
      "new best!\n",
      "Epoch 20/50\n"
     ]
    },
    {
     "name": "stderr",
     "output_type": "stream",
     "text": [
      "100%|███████████████████████████████████████████| 64/64 [00:15<00:00,  4.01it/s]\n"
     ]
    },
    {
     "name": "stdout",
     "output_type": "stream",
     "text": [
      "{'mean_loss': 0.2441049120388925}\n"
     ]
    },
    {
     "name": "stderr",
     "output_type": "stream",
     "text": [
      "100%|█████████████████████████████████████████████| 3/3 [00:04<00:00,  1.42s/it]\n"
     ]
    },
    {
     "name": "stdout",
     "output_type": "stream",
     "text": [
      "{'sample': 'IXI052_0', 'metric': tensor([0.8682])}\n",
      "{'sample': 'IXI080_0', 'metric': tensor([0.8916])}\n",
      "{'sample': 'IXI020_0', 'metric': tensor([0.9157])}\n",
      "new best!\n",
      "Epoch 21/50\n"
     ]
    },
    {
     "name": "stderr",
     "output_type": "stream",
     "text": [
      "100%|███████████████████████████████████████████| 64/64 [00:16<00:00,  3.92it/s]\n"
     ]
    },
    {
     "name": "stdout",
     "output_type": "stream",
     "text": [
      "{'mean_loss': 0.2513601020909846}\n"
     ]
    },
    {
     "name": "stderr",
     "output_type": "stream",
     "text": [
      "100%|█████████████████████████████████████████████| 3/3 [00:04<00:00,  1.41s/it]\n"
     ]
    },
    {
     "name": "stdout",
     "output_type": "stream",
     "text": [
      "{'sample': 'IXI052_0', 'metric': tensor([0.8704])}\n",
      "{'sample': 'IXI080_0', 'metric': tensor([0.8936])}\n",
      "{'sample': 'IXI020_0', 'metric': tensor([0.9154])}\n",
      "new best!\n",
      "Epoch 22/50\n"
     ]
    },
    {
     "name": "stderr",
     "output_type": "stream",
     "text": [
      "100%|███████████████████████████████████████████| 64/64 [00:16<00:00,  3.84it/s]\n"
     ]
    },
    {
     "name": "stdout",
     "output_type": "stream",
     "text": [
      "{'mean_loss': 0.2575517517980188}\n"
     ]
    },
    {
     "name": "stderr",
     "output_type": "stream",
     "text": [
      "100%|█████████████████████████████████████████████| 3/3 [00:04<00:00,  1.42s/it]\n"
     ]
    },
    {
     "name": "stdout",
     "output_type": "stream",
     "text": [
      "{'sample': 'IXI052_0', 'metric': tensor([0.8723])}\n",
      "{'sample': 'IXI080_0', 'metric': tensor([0.8948])}\n",
      "{'sample': 'IXI020_0', 'metric': tensor([0.9154])}\n",
      "new best!\n",
      "Epoch 23/50\n"
     ]
    },
    {
     "name": "stderr",
     "output_type": "stream",
     "text": [
      "100%|███████████████████████████████████████████| 64/64 [00:16<00:00,  3.91it/s]\n"
     ]
    },
    {
     "name": "stdout",
     "output_type": "stream",
     "text": [
      "{'mean_loss': 0.23171078460291028}\n"
     ]
    },
    {
     "name": "stderr",
     "output_type": "stream",
     "text": [
      "100%|█████████████████████████████████████████████| 3/3 [00:04<00:00,  1.50s/it]\n"
     ]
    },
    {
     "name": "stdout",
     "output_type": "stream",
     "text": [
      "{'sample': 'IXI052_0', 'metric': tensor([0.8741])}\n",
      "{'sample': 'IXI080_0', 'metric': tensor([0.8962])}\n",
      "{'sample': 'IXI020_0', 'metric': tensor([0.9164])}\n",
      "new best!\n",
      "Epoch 24/50\n"
     ]
    },
    {
     "name": "stderr",
     "output_type": "stream",
     "text": [
      "100%|███████████████████████████████████████████| 64/64 [00:16<00:00,  3.90it/s]\n"
     ]
    },
    {
     "name": "stdout",
     "output_type": "stream",
     "text": [
      "{'mean_loss': 0.2495104381814599}\n"
     ]
    },
    {
     "name": "stderr",
     "output_type": "stream",
     "text": [
      "100%|█████████████████████████████████████████████| 3/3 [00:04<00:00,  1.45s/it]\n"
     ]
    },
    {
     "name": "stdout",
     "output_type": "stream",
     "text": [
      "{'sample': 'IXI052_0', 'metric': tensor([0.8744])}\n",
      "{'sample': 'IXI080_0', 'metric': tensor([0.8970])}\n",
      "{'sample': 'IXI020_0', 'metric': tensor([0.9174])}\n",
      "new best!\n",
      "Epoch 25/50\n"
     ]
    },
    {
     "name": "stderr",
     "output_type": "stream",
     "text": [
      "100%|███████████████████████████████████████████| 64/64 [00:16<00:00,  3.92it/s]\n"
     ]
    },
    {
     "name": "stdout",
     "output_type": "stream",
     "text": [
      "{'mean_loss': 0.24090928677469492}\n"
     ]
    },
    {
     "name": "stderr",
     "output_type": "stream",
     "text": [
      "100%|█████████████████████████████████████████████| 3/3 [00:04<00:00,  1.41s/it]\n"
     ]
    },
    {
     "name": "stdout",
     "output_type": "stream",
     "text": [
      "{'sample': 'IXI052_0', 'metric': tensor([0.8748])}\n",
      "{'sample': 'IXI080_0', 'metric': tensor([0.8966])}\n",
      "{'sample': 'IXI020_0', 'metric': tensor([0.9178])}\n",
      "new best!\n",
      "Epoch 26/50\n"
     ]
    },
    {
     "name": "stderr",
     "output_type": "stream",
     "text": [
      "100%|███████████████████████████████████████████| 64/64 [00:16<00:00,  3.93it/s]\n"
     ]
    },
    {
     "name": "stdout",
     "output_type": "stream",
     "text": [
      "{'mean_loss': 0.24068269412964582}\n"
     ]
    },
    {
     "name": "stderr",
     "output_type": "stream",
     "text": [
      "100%|█████████████████████████████████████████████| 3/3 [00:04<00:00,  1.51s/it]\n"
     ]
    },
    {
     "name": "stdout",
     "output_type": "stream",
     "text": [
      "{'sample': 'IXI052_0', 'metric': tensor([0.8745])}\n",
      "{'sample': 'IXI080_0', 'metric': tensor([0.8964])}\n",
      "{'sample': 'IXI020_0', 'metric': tensor([0.9182])}\n",
      "count_without_new_best_test_val: 1\n",
      "Epoch 27/50\n"
     ]
    },
    {
     "name": "stderr",
     "output_type": "stream",
     "text": [
      " 23%|██████████                                 | 15/64 [00:02<00:09,  5.29it/s]\n"
     ]
    },
    {
     "ename": "KeyboardInterrupt",
     "evalue": "",
     "output_type": "error",
     "traceback": [
      "\u001b[0;31m---------------------------------------------------------------------------\u001b[0m",
      "\u001b[0;31mKeyboardInterrupt\u001b[0m                         Traceback (most recent call last)",
      "Cell \u001b[0;32mIn[22], line 1\u001b[0m\n\u001b[0;32m----> 1\u001b[0m \u001b[43mcontroller\u001b[49m\u001b[38;5;241;43m.\u001b[39;49m\u001b[43mfit\u001b[49m\u001b[43m(\u001b[49m\u001b[43mdataset\u001b[49m\u001b[43m,\u001b[49m\u001b[43m \u001b[49m\u001b[38;5;241;43m50\u001b[39;49m\u001b[43m)\u001b[49m\n",
      "File \u001b[0;32m~/repo/MSRepo/VesselSegmentation/research/../ml/ControllerClass.py:52\u001b[0m, in \u001b[0;36mController.fit\u001b[0;34m(self, dataset, n_epochs, brain_extractor)\u001b[0m\n\u001b[1;32m     49\u001b[0m \u001b[38;5;28mself\u001b[39m\u001b[38;5;241m.\u001b[39mepoch \u001b[38;5;241m+\u001b[39m\u001b[38;5;241m=\u001b[39m \u001b[38;5;241m1\u001b[39m\n\u001b[1;32m     50\u001b[0m \u001b[38;5;28mprint\u001b[39m(\u001b[38;5;124mf\u001b[39m\u001b[38;5;124m\"\u001b[39m\u001b[38;5;124mEpoch \u001b[39m\u001b[38;5;132;01m{\u001b[39;00mepoch\u001b[38;5;250m \u001b[39m\u001b[38;5;241m+\u001b[39m\u001b[38;5;250m \u001b[39m\u001b[38;5;241m1\u001b[39m\u001b[38;5;132;01m}\u001b[39;00m\u001b[38;5;124m/\u001b[39m\u001b[38;5;132;01m{\u001b[39;00mstart_epoch\u001b[38;5;241m+\u001b[39mn_epochs\u001b[38;5;132;01m}\u001b[39;00m\u001b[38;5;124m\"\u001b[39m)\n\u001b[0;32m---> 52\u001b[0m train_info \u001b[38;5;241m=\u001b[39m \u001b[38;5;28;43mself\u001b[39;49m\u001b[38;5;241;43m.\u001b[39;49m\u001b[43mtrain_epoch\u001b[49m\u001b[43m(\u001b[49m\u001b[43mdataset\u001b[49m\u001b[38;5;241;43m.\u001b[39;49m\u001b[43mtrain_dataloader\u001b[49m\u001b[43m,\u001b[49m\u001b[43m \u001b[49m\u001b[43mbrain_extractor\u001b[49m\u001b[38;5;241;43m=\u001b[39;49m\u001b[43mbrain_extractor\u001b[49m\u001b[43m)\u001b[49m\n\u001b[1;32m     53\u001b[0m \u001b[38;5;28mprint\u001b[39m(train_info)\n\u001b[1;32m     54\u001b[0m \u001b[38;5;28mself\u001b[39m\u001b[38;5;241m.\u001b[39mhistory[\u001b[38;5;124m'\u001b[39m\u001b[38;5;124mtrain_loss\u001b[39m\u001b[38;5;124m'\u001b[39m]\u001b[38;5;241m.\u001b[39mappend(train_info[\u001b[38;5;124m'\u001b[39m\u001b[38;5;124mmean_loss\u001b[39m\u001b[38;5;124m'\u001b[39m])\n",
      "File \u001b[0;32m~/repo/MSRepo/VesselSegmentation/research/../ml/ControllerClass.py:115\u001b[0m, in \u001b[0;36mController.train_epoch\u001b[0;34m(self, train_dataloader, brain_extractor)\u001b[0m\n\u001b[1;32m    112\u001b[0m     \u001b[38;5;66;03m#loss.register_hook(lambda grad: print(grad))\u001b[39;00m\n\u001b[1;32m    114\u001b[0m     \u001b[38;5;28mself\u001b[39m\u001b[38;5;241m.\u001b[39moptimizer\u001b[38;5;241m.\u001b[39mstep()\n\u001b[0;32m--> 115\u001b[0m     loss_val \u001b[38;5;241m=\u001b[39m \u001b[43mloss\u001b[49m\u001b[38;5;241;43m.\u001b[39;49m\u001b[43mitem\u001b[49m\u001b[43m(\u001b[49m\u001b[43m)\u001b[49m\n\u001b[1;32m    116\u001b[0m     losses\u001b[38;5;241m.\u001b[39mappend(loss_val)\n\u001b[1;32m    117\u001b[0m \u001b[38;5;28;01mreturn\u001b[39;00m {\u001b[38;5;124m'\u001b[39m\u001b[38;5;124mmean_loss\u001b[39m\u001b[38;5;124m'\u001b[39m: \u001b[38;5;28msum\u001b[39m(losses)\u001b[38;5;241m/\u001b[39m\u001b[38;5;28mlen\u001b[39m(losses)}\n",
      "\u001b[0;31mKeyboardInterrupt\u001b[0m: "
     ]
    }
   ],
   "source": [
    "controller.fit(dataset, 50)"
   ]
  },
  {
   "cell_type": "code",
   "execution_count": 23,
   "id": "63255d52-f74c-43b5-a085-695b3aade9b5",
   "metadata": {
    "tags": []
   },
   "outputs": [],
   "source": [
    "#model_name = \"Unet3d_16ch_20.03\"\n",
    "#model_name = \"Unet2d_16ch\"\n",
    "#model_name = \"HessNet_isotropic_smartnorm\"\n",
    "#model_name = \"UNETR\"\n",
    "\n",
    "#model_name = \"HessBlock_proj8\"\n",
    "#model_name = 'HessNet_new'\n",
    "#model_name = 'GenHessNet'\n",
    "#model_name = 'SeqHessNet'\n",
    "#model_name = 'HessNet_new_'\n",
    "#model_name = 'HessUnet'\n",
    "\n",
    "model_name = \"LittleUnet\""
   ]
  },
  {
   "cell_type": "code",
   "execution_count": 24,
   "id": "096bdf5b-cd1a-429e-bbb0-0213ec68b40e",
   "metadata": {
    "tags": []
   },
   "outputs": [],
   "source": [
    "controller.save(f\"/home/msst/save_folder/saved_models/{model_name}.pth\")\n",
    "controller.save_weights(f\"/home/msst/save_folder/saved_models/{model_name}_weights.pth\")"
   ]
  },
  {
   "cell_type": "code",
   "execution_count": 25,
   "id": "f014d15a-ad04-45e4-bbb3-1785cd18f6ae",
   "metadata": {
    "tags": []
   },
   "outputs": [],
   "source": [
    "#path_to_check = f\"/home/msst/save_folder/saved_models/{model_name}.pth\"\n",
    "#controller.load(path_to_checkpoint=path_to_check)"
   ]
  },
  {
   "cell_type": "code",
   "execution_count": 26,
   "id": "ea3d9510-3ee9-495c-82cf-f4ad4795c5f3",
   "metadata": {
    "tags": []
   },
   "outputs": [
    {
     "name": "stdout",
     "output_type": "stream",
     "text": [
      "1.3116536140441895\n"
     ]
    }
   ],
   "source": [
    "from scripts.utils import get_path\n",
    "import torchio as tio\n",
    "\n",
    "sample_index = \"092\"\n",
    "\n",
    "path_to_vol = get_path(f\"/home/msst/IXI_MRA_work/IXI{sample_index}\", key=\"head\")\n",
    "subject_dict = {'head': tio.ScalarImage(path_to_vol)}\n",
    "subject = tio.Subject(subject_dict)\n",
    "subject = tio.transforms.ZNormalization()(subject)\n",
    "\n",
    "t = time.time()\n",
    "seg = controller.single_predict(subject, test_settings, thres=None)\n",
    "print(time.time() - t)\n",
    "\n",
    "#dt_string = datetime.now().strftime(\"%d_%m_%Y_%H:%M\")\n",
    "dir_name = os.path.dirname(path_to_vol)\n",
    "\n",
    "#path_to_save = f\"/home/msst/IXI_MRA_work/IXI{sample_index}/{model_name}_{dt_string}.nii.gz\"\n",
    "path_to_save = f\"/home/msst/IXI_MRA_work/IXI{sample_index}/{model_name}.nii.gz\"\n",
    "save_vol_as_nii(seg, subject.head.affine, path_to_save)"
   ]
  },
  {
   "cell_type": "code",
   "execution_count": null,
   "id": "829c4d2a-53fa-4f24-bc19-d5ab86730c0d",
   "metadata": {},
   "outputs": [],
   "source": []
  },
  {
   "cell_type": "code",
   "execution_count": null,
   "id": "18b55d9d-b067-4241-92cc-8c9412119b20",
   "metadata": {},
   "outputs": [],
   "source": []
  },
  {
   "cell_type": "code",
   "execution_count": 31,
   "id": "70a41a0c-eaf4-4990-a8b6-96932860c163",
   "metadata": {},
   "outputs": [
    {
     "ename": "IndexError",
     "evalue": "list index out of range",
     "output_type": "error",
     "traceback": [
      "\u001b[0;31m---------------------------------------------------------------------------\u001b[0m",
      "\u001b[0;31mIndexError\u001b[0m                                Traceback (most recent call last)",
      "Cell \u001b[0;32mIn[31], line 2\u001b[0m\n\u001b[1;32m      1\u001b[0m path_to_GT \u001b[38;5;241m=\u001b[39m get_path(\u001b[38;5;124mf\u001b[39m\u001b[38;5;124m\"\u001b[39m\u001b[38;5;124m/home/msst/IXI_MRA_work/IXI\u001b[39m\u001b[38;5;132;01m{\u001b[39;00msample_index\u001b[38;5;132;01m}\u001b[39;00m\u001b[38;5;124m\"\u001b[39m, key\u001b[38;5;241m=\u001b[39m\u001b[38;5;124m\"\u001b[39m\u001b[38;5;124mvessels\u001b[39m\u001b[38;5;124m\"\u001b[39m)\n\u001b[0;32m----> 2\u001b[0m GT \u001b[38;5;241m=\u001b[39m \u001b[43mtio\u001b[49m\u001b[38;5;241;43m.\u001b[39;49m\u001b[43mScalarImage\u001b[49m\u001b[43m(\u001b[49m\u001b[43mpath_to_GT\u001b[49m\u001b[43m)\u001b[49m\u001b[38;5;241;43m.\u001b[39;49m\u001b[43mdata\u001b[49m\n\u001b[1;32m      3\u001b[0m path_to_brain_mask \u001b[38;5;241m=\u001b[39m get_path(\u001b[38;5;124mf\u001b[39m\u001b[38;5;124m\"\u001b[39m\u001b[38;5;124m/home/msst/IXI_MRA_work/IXI\u001b[39m\u001b[38;5;132;01m{\u001b[39;00msample_index\u001b[38;5;132;01m}\u001b[39;00m\u001b[38;5;124m\"\u001b[39m, key\u001b[38;5;241m=\u001b[39m\u001b[38;5;124m\"\u001b[39m\u001b[38;5;124mbrain\u001b[39m\u001b[38;5;124m\"\u001b[39m)\n\u001b[1;32m      4\u001b[0m brain_mask \u001b[38;5;241m=\u001b[39m tio\u001b[38;5;241m.\u001b[39mScalarImage(path_to_brain_mask)\u001b[38;5;241m.\u001b[39mdata\n",
      "File \u001b[0;32m~/.venv/segvenv/lib/python3.10/site-packages/torchio/data/image.py:234\u001b[0m, in \u001b[0;36mImage.data\u001b[0;34m(self)\u001b[0m\n\u001b[1;32m    231\u001b[0m \u001b[38;5;129m@property\u001b[39m\n\u001b[1;32m    232\u001b[0m \u001b[38;5;28;01mdef\u001b[39;00m \u001b[38;5;21mdata\u001b[39m(\u001b[38;5;28mself\u001b[39m) \u001b[38;5;241m-\u001b[39m\u001b[38;5;241m>\u001b[39m torch\u001b[38;5;241m.\u001b[39mTensor:\n\u001b[1;32m    233\u001b[0m \u001b[38;5;250m    \u001b[39m\u001b[38;5;124;03m\"\"\"Tensor data (same as :class:`Image.tensor`).\"\"\"\u001b[39;00m\n\u001b[0;32m--> 234\u001b[0m     \u001b[38;5;28;01mreturn\u001b[39;00m \u001b[38;5;28;43mself\u001b[39;49m\u001b[43m[\u001b[49m\u001b[43mDATA\u001b[49m\u001b[43m]\u001b[49m\n",
      "File \u001b[0;32m~/.venv/segvenv/lib/python3.10/site-packages/torchio/data/image.py:205\u001b[0m, in \u001b[0;36mImage.__getitem__\u001b[0;34m(self, item)\u001b[0m\n\u001b[1;32m    203\u001b[0m \u001b[38;5;28;01mif\u001b[39;00m item \u001b[38;5;129;01min\u001b[39;00m (DATA, AFFINE):\n\u001b[1;32m    204\u001b[0m     \u001b[38;5;28;01mif\u001b[39;00m item \u001b[38;5;129;01mnot\u001b[39;00m \u001b[38;5;129;01min\u001b[39;00m \u001b[38;5;28mself\u001b[39m:\n\u001b[0;32m--> 205\u001b[0m         \u001b[38;5;28;43mself\u001b[39;49m\u001b[38;5;241;43m.\u001b[39;49m\u001b[43mload\u001b[49m\u001b[43m(\u001b[49m\u001b[43m)\u001b[49m\n\u001b[1;32m    206\u001b[0m \u001b[38;5;28;01mreturn\u001b[39;00m \u001b[38;5;28msuper\u001b[39m()\u001b[38;5;241m.\u001b[39m\u001b[38;5;21m__getitem__\u001b[39m(item)\n",
      "File \u001b[0;32m~/.venv/segvenv/lib/python3.10/site-packages/torchio/data/image.py:554\u001b[0m, in \u001b[0;36mImage.load\u001b[0;34m(self)\u001b[0m\n\u001b[1;32m    552\u001b[0m \u001b[38;5;28;01melse\u001b[39;00m:\n\u001b[1;32m    553\u001b[0m     paths \u001b[38;5;241m=\u001b[39m [\u001b[38;5;28mself\u001b[39m\u001b[38;5;241m.\u001b[39mpath]  \u001b[38;5;66;03m# type: ignore[list-item]\u001b[39;00m\n\u001b[0;32m--> 554\u001b[0m tensor, affine \u001b[38;5;241m=\u001b[39m \u001b[38;5;28mself\u001b[39m\u001b[38;5;241m.\u001b[39mread_and_check(\u001b[43mpaths\u001b[49m\u001b[43m[\u001b[49m\u001b[38;5;241;43m0\u001b[39;49m\u001b[43m]\u001b[49m)\n\u001b[1;32m    555\u001b[0m tensors \u001b[38;5;241m=\u001b[39m [tensor]\n\u001b[1;32m    556\u001b[0m \u001b[38;5;28;01mfor\u001b[39;00m path \u001b[38;5;129;01min\u001b[39;00m paths[\u001b[38;5;241m1\u001b[39m:]:\n",
      "\u001b[0;31mIndexError\u001b[0m: list index out of range"
     ]
    }
   ],
   "source": [
    "path_to_GT = get_path(f\"/home/msst/IXI_MRA_work/IXI{sample_index}\", key=\"vessels\")\n",
    "GT = tio.ScalarImage(path_to_GT).data\n",
    "path_to_brain_mask = get_path(f\"/home/msst/IXI_MRA_work/IXI{sample_index}\", key=\"brain\")\n",
    "brain_mask = tio.ScalarImage(path_to_brain_mask).data\n",
    "\n",
    "path_to_save_masked = f\"/home/msst/IXI_MRA_work/IXI{sample_index}/{model_name}_mask.nii.gz\"\n",
    "path_to_save_GT_masked = f\"/home/msst/IXI_MRA_work/IXI{sample_index}/vessels_mask.nii.gz\"\n",
    "save_vol_as_nii(seg*brain_mask, subject.head.affine, path_to_save_masked)\n",
    "save_vol_as_nii(GT*brain_mask, subject.head.affine, path_to_save_GT_masked)"
   ]
  },
  {
   "cell_type": "code",
   "execution_count": 30,
   "id": "e3f8070d-7490-4e06-9cca-d41ee432bbb2",
   "metadata": {},
   "outputs": [
    {
     "ename": "NameError",
     "evalue": "name 'path_to_GT' is not defined",
     "output_type": "error",
     "traceback": [
      "\u001b[0;31m---------------------------------------------------------------------------\u001b[0m",
      "\u001b[0;31mNameError\u001b[0m                                 Traceback (most recent call last)",
      "Cell \u001b[0;32mIn[30], line 5\u001b[0m\n\u001b[1;32m      2\u001b[0m \u001b[38;5;28;01mimport\u001b[39;00m \u001b[38;5;21;01mre\u001b[39;00m\n\u001b[1;32m      3\u001b[0m path_to_EvaluateSegmentation \u001b[38;5;241m=\u001b[39m \u001b[38;5;124m'\u001b[39m\u001b[38;5;124m/home/msst/repo/MSRepo/VesselSegmentation/Inference/EvaluateSegmentation\u001b[39m\u001b[38;5;124m'\u001b[39m\n\u001b[0;32m----> 5\u001b[0m GT_path \u001b[38;5;241m=\u001b[39m \u001b[43mpath_to_GT\u001b[49m\n\u001b[1;32m      6\u001b[0m SEG_path \u001b[38;5;241m=\u001b[39m path_to_save\n\u001b[1;32m      7\u001b[0m GT_mask_path \u001b[38;5;241m=\u001b[39m path_to_save_masked\n",
      "\u001b[0;31mNameError\u001b[0m: name 'path_to_GT' is not defined"
     ]
    }
   ],
   "source": [
    "import subprocess\n",
    "import re\n",
    "path_to_EvaluateSegmentation = '/home/msst/repo/MSRepo/VesselSegmentation/Inference/EvaluateSegmentation'\n",
    "\n",
    "GT_path = path_to_GT\n",
    "SEG_path = path_to_save\n",
    "GT_mask_path = path_to_save_masked\n",
    "SEG_mask_path = path_to_save_GT_masked\n",
    "\n",
    "command_output = subprocess.run([f\"{path_to_EvaluateSegmentation}\",\n",
    "                                    GT_path, SEG_path], stdout=subprocess.PIPE, text=True)\n",
    "command_output = command_output.stdout.split('\\n')\n",
    "metrics = [\"DICE\", \"AVGDIST\", \"SNSVTY\"]\n",
    "metric_dict = {}\n",
    "for metric in metrics:\n",
    "    for line in command_output:\n",
    "        if re.search(metric, line):\n",
    "            metric_dict.update({metric : line.split('\\t')[1][2:]})\n",
    "\n",
    "command_output = subprocess.run([f\"{path_to_EvaluateSegmentation}\",\n",
    "                                    GT_mask_path, SEG_mask_path], stdout=subprocess.PIPE, text=True)\n",
    "command_output = command_output.stdout.split('\\n')\n",
    "metrics = [\"DICE\", \"AVGDIST\", \"SNSVTY\"]\n",
    "metric_dict_mask = {}\n",
    "for metric in metrics:\n",
    "    for line in command_output:\n",
    "        if re.search(metric, line):\n",
    "            metric_dict_mask.update({metric : line.split('\\t')[1][2:]})\n",
    "\n",
    "metric_dict, metric_dict_mask"
   ]
  },
  {
   "cell_type": "markdown",
   "id": "e427a200-0d7a-4f0b-88ab-013dba43a1e1",
   "metadata": {},
   "source": [
    "**<h3>GLOBAL TEST**"
   ]
  },
  {
   "cell_type": "code",
   "execution_count": 3,
   "id": "f46aa9e6-4883-4883-bf9b-5afaf61eafc8",
   "metadata": {
    "tags": []
   },
   "outputs": [],
   "source": [
    "def run_tests(model_name, path_to_save_models, is2d, test_data_path, epochs):\n",
    "    if is2d:\n",
    "        PATCH_SIZE_TRAIN = (512, 512, 1)\n",
    "        PATCH_SIZE_TEST = (512, 512, 1)\n",
    "        OVERLAP_TEST = (0, 0, 0)\n",
    "    else:\n",
    "        PATCH_SIZE_TRAIN = (64, 64, 64)\n",
    "        PATCH_SIZE_TEST = (256, 256, 64)\n",
    "        OVERLAP_TEST = (32, 32, 24)\n",
    "    \n",
    "    train_settings  = {\n",
    "        \"patch_shape\" : PATCH_SIZE_TRAIN,\n",
    "        \"patches_per_volume\" : 64,\n",
    "        \"patches_queue_length\" : 1440,\n",
    "        \"batch_size\" : 16,\n",
    "        \"num_workers\": 4,\n",
    "        \"sampler\": \"uniform\",\n",
    "    }\n",
    "    \n",
    "    test_settings = {\n",
    "        \"patch_shape\" : PATCH_SIZE_TEST,\n",
    "        \"overlap_shape\" : OVERLAP_TEST,\n",
    "        \"batch_size\" : 1,\n",
    "        \"num_workers\": 4,\n",
    "    }\n",
    "    \n",
    "    for test in tqdm(os.listdir(test_data_path)):\n",
    "        dataset = TioDataset(test_data_path + '/' + test,\n",
    "                  train_settings=train_settings,\n",
    "                  test_settings=test_settings)\n",
    "        \n",
    "        model = get_model(model_name)\n",
    "        \n",
    "        controller_config = {\n",
    "            \"loss\" : ExponentialLogarithmicLoss(gamma_tversky=0.5, gamma_bce=0.5, lamb=0.5,\n",
    "                                                freq = 0.1, tversky_alfa=0.5),\n",
    "            \"metric\" : DICE_Metric(),\n",
    "            'device' : 'cuda',\n",
    "            \"model\" : model,\n",
    "            \"optimizer_fn\" : lambda model: torch.optim.Adam(model.parameters(), lr=0.02),\n",
    "            \"sheduler_fn\": lambda optimizer: StepLR(optimizer, step_size=1, gamma=0.9),\n",
    "            \"is2d\" : is2d,\n",
    "            'verbose': False\n",
    "        }\n",
    "        controller = Controller(controller_config)\n",
    "        controller.fit(dataset, epochs)\n",
    "        controller.save(f\"{path_to_save_models}/{model_name}_{test}\")"
   ]
  },
  {
   "cell_type": "code",
   "execution_count": 4,
   "id": "d24be0fa-3b3a-4ce2-a1f1-cff51f13d6fb",
   "metadata": {
    "collapsed": true,
    "jupyter": {
     "outputs_hidden": true
    },
    "tags": []
   },
   "outputs": [
    {
     "name": "stderr",
     "output_type": "stream",
     "text": [
      "  0%|                                                     | 0/2 [00:00<?, ?it/s]"
     ]
    },
    {
     "name": "stdout",
     "output_type": "stream",
     "text": [
      "Epoch 1/25\n",
      "{'mean_loss': 0.7622763651112715}\n",
      "{'metrics': [{'sample': 'IXI111_0', 'metric1': tensor([0.7776])}, {'sample': 'IXI100_0', 'metric1': tensor([0.7168])}, {'sample': 'IXI020_0', 'metric1': tensor([0.7513])}]}\n",
      "Epoch 2/25\n",
      "{'mean_loss': 0.2930100342879693}\n",
      "{'metrics': [{'sample': 'IXI111_0', 'metric1': tensor([0.8368])}, {'sample': 'IXI100_0', 'metric1': tensor([0.7817])}, {'sample': 'IXI020_0', 'metric1': tensor([0.8290])}]}\n",
      "Epoch 3/25\n",
      "{'mean_loss': 0.2731123532479008}\n",
      "{'metrics': [{'sample': 'IXI111_0', 'metric1': tensor([0.8429])}, {'sample': 'IXI100_0', 'metric1': tensor([0.7831])}, {'sample': 'IXI020_0', 'metric1': tensor([0.8305])}]}\n",
      "Epoch 4/25\n",
      "{'mean_loss': 0.26982324353108805}\n",
      "{'metrics': [{'sample': 'IXI111_0', 'metric1': tensor([0.8570])}, {'sample': 'IXI100_0', 'metric1': tensor([0.7953])}, {'sample': 'IXI020_0', 'metric1': tensor([0.8501])}]}\n",
      "Epoch 5/25\n",
      "{'mean_loss': 0.25067211718608934}\n",
      "{'metrics': [{'sample': 'IXI111_0', 'metric1': tensor([0.8659])}, {'sample': 'IXI100_0', 'metric1': tensor([0.8037])}, {'sample': 'IXI020_0', 'metric1': tensor([0.8612])}]}\n",
      "Epoch 6/25\n",
      "{'mean_loss': 0.23609550793965658}\n",
      "{'metrics': [{'sample': 'IXI111_0', 'metric1': tensor([0.8809])}, {'sample': 'IXI100_0', 'metric1': tensor([0.8154])}, {'sample': 'IXI020_0', 'metric1': tensor([0.8784])}]}\n",
      "Epoch 7/25\n",
      "{'mean_loss': 0.26493708540995914}\n",
      "{'metrics': [{'sample': 'IXI111_0', 'metric1': tensor([0.8886])}, {'sample': 'IXI100_0', 'metric1': tensor([0.8209])}, {'sample': 'IXI020_0', 'metric1': tensor([0.8849])}]}\n",
      "Epoch 8/25\n",
      "{'mean_loss': 0.23556007258594036}\n",
      "{'metrics': [{'sample': 'IXI111_0', 'metric1': tensor([0.8922])}, {'sample': 'IXI100_0', 'metric1': tensor([0.8219])}, {'sample': 'IXI020_0', 'metric1': tensor([0.8899])}]}\n",
      "Epoch 9/25\n",
      "{'mean_loss': 0.2349252880861362}\n",
      "{'metrics': [{'sample': 'IXI111_0', 'metric1': tensor([0.8950])}, {'sample': 'IXI100_0', 'metric1': tensor([0.8237])}, {'sample': 'IXI020_0', 'metric1': tensor([0.8947])}]}\n",
      "Epoch 10/25\n",
      "{'mean_loss': 0.23566831462085247}\n",
      "{'metrics': [{'sample': 'IXI111_0', 'metric1': tensor([0.9017])}, {'sample': 'IXI100_0', 'metric1': tensor([0.8277])}, {'sample': 'IXI020_0', 'metric1': tensor([0.9009])}]}\n",
      "Epoch 11/25\n",
      "{'mean_loss': 0.22698609872410694}\n",
      "{'metrics': [{'sample': 'IXI111_0', 'metric1': tensor([0.9067])}, {'sample': 'IXI100_0', 'metric1': tensor([0.8325])}, {'sample': 'IXI020_0', 'metric1': tensor([0.9067])}]}\n",
      "Epoch 12/25\n",
      "{'mean_loss': 0.23678839827577272}\n",
      "{'metrics': [{'sample': 'IXI111_0', 'metric1': tensor([0.9065])}, {'sample': 'IXI100_0', 'metric1': tensor([0.8329])}, {'sample': 'IXI020_0', 'metric1': tensor([0.9057])}]}\n",
      "Epoch 13/25\n",
      "{'mean_loss': 0.24870852256814638}\n",
      "{'metrics': [{'sample': 'IXI111_0', 'metric1': tensor([0.9065])}, {'sample': 'IXI100_0', 'metric1': tensor([0.8330])}, {'sample': 'IXI020_0', 'metric1': tensor([0.9062])}]}\n",
      "Epoch 14/25\n",
      "{'mean_loss': 0.23769294625769058}\n",
      "{'metrics': [{'sample': 'IXI111_0', 'metric1': tensor([0.9106])}, {'sample': 'IXI100_0', 'metric1': tensor([0.8353])}, {'sample': 'IXI020_0', 'metric1': tensor([0.9101])}]}\n",
      "Epoch 15/25\n",
      "{'mean_loss': 0.23506000700096288}\n",
      "{'metrics': [{'sample': 'IXI111_0', 'metric1': tensor([0.9150])}, {'sample': 'IXI100_0', 'metric1': tensor([0.8380])}, {'sample': 'IXI020_0', 'metric1': tensor([0.9144])}]}\n",
      "Epoch 16/25\n",
      "{'mean_loss': 0.23453363558898369}\n",
      "{'metrics': [{'sample': 'IXI111_0', 'metric1': tensor([0.9183])}, {'sample': 'IXI100_0', 'metric1': tensor([0.8394])}, {'sample': 'IXI020_0', 'metric1': tensor([0.9172])}]}\n",
      "Epoch 17/25\n",
      "{'mean_loss': 0.22622476456065974}\n",
      "{'metrics': [{'sample': 'IXI111_0', 'metric1': tensor([0.9215])}, {'sample': 'IXI100_0', 'metric1': tensor([0.8415])}, {'sample': 'IXI020_0', 'metric1': tensor([0.9207])}]}\n",
      "Epoch 18/25\n",
      "{'mean_loss': 0.23384545433024564}\n",
      "{'metrics': [{'sample': 'IXI111_0', 'metric1': tensor([0.9237])}, {'sample': 'IXI100_0', 'metric1': tensor([0.8437])}, {'sample': 'IXI020_0', 'metric1': tensor([0.9233])}]}\n",
      "Epoch 19/25\n",
      "{'mean_loss': 0.2254338242734472}\n",
      "{'metrics': [{'sample': 'IXI111_0', 'metric1': tensor([0.9263])}, {'sample': 'IXI100_0', 'metric1': tensor([0.8449])}, {'sample': 'IXI020_0', 'metric1': tensor([0.9255])}]}\n",
      "Epoch 20/25\n",
      "{'mean_loss': 0.2281344464669625}\n",
      "{'metrics': [{'sample': 'IXI111_0', 'metric1': tensor([0.9287])}, {'sample': 'IXI100_0', 'metric1': tensor([0.8462])}, {'sample': 'IXI020_0', 'metric1': tensor([0.9273])}]}\n",
      "Epoch 21/25\n",
      "{'mean_loss': 0.22715463240941366}\n",
      "{'metrics': [{'sample': 'IXI111_0', 'metric1': tensor([0.9301])}, {'sample': 'IXI100_0', 'metric1': tensor([0.8471])}, {'sample': 'IXI020_0', 'metric1': tensor([0.9292])}]}\n",
      "Epoch 22/25\n",
      "{'mean_loss': 0.23030814218024412}\n",
      "{'metrics': [{'sample': 'IXI111_0', 'metric1': tensor([0.9315])}, {'sample': 'IXI100_0', 'metric1': tensor([0.8475])}, {'sample': 'IXI020_0', 'metric1': tensor([0.9304])}]}\n",
      "Epoch 23/25\n",
      "{'mean_loss': 0.23139321493605772}\n",
      "{'metrics': [{'sample': 'IXI111_0', 'metric1': tensor([0.9328])}, {'sample': 'IXI100_0', 'metric1': tensor([0.8486])}, {'sample': 'IXI020_0', 'metric1': tensor([0.9320])}]}\n",
      "Epoch 24/25\n",
      "{'mean_loss': 0.22511688309411207}\n",
      "{'metrics': [{'sample': 'IXI111_0', 'metric1': tensor([0.9336])}, {'sample': 'IXI100_0', 'metric1': tensor([0.8490])}, {'sample': 'IXI020_0', 'metric1': tensor([0.9333])}]}\n",
      "Epoch 25/25\n",
      "{'mean_loss': 0.22424103474865356}\n"
     ]
    },
    {
     "name": "stderr",
     "output_type": "stream",
     "text": [
      " 50%|█████████████████████▌                     | 1/2 [18:16<18:16, 1096.89s/it]"
     ]
    },
    {
     "name": "stdout",
     "output_type": "stream",
     "text": [
      "{'metrics': [{'sample': 'IXI111_0', 'metric1': tensor([0.9343])}, {'sample': 'IXI100_0', 'metric1': tensor([0.8491])}, {'sample': 'IXI020_0', 'metric1': tensor([0.9339])}]}\n",
      "Epoch 1/25\n",
      "{'mean_loss': 0.6672985454400381}\n",
      "{'metrics': [{'sample': 'IXI077_0', 'metric1': tensor([0.3137])}, {'sample': 'IXI111_0', 'metric1': tensor([0.3520])}, {'sample': 'IXI115_0', 'metric1': tensor([0.4546])}]}\n",
      "Epoch 2/25\n",
      "{'mean_loss': 0.2853224550684293}\n",
      "{'metrics': [{'sample': 'IXI077_0', 'metric1': tensor([0.7835])}, {'sample': 'IXI111_0', 'metric1': tensor([0.8429])}, {'sample': 'IXI115_0', 'metric1': tensor([0.7320])}]}\n",
      "Epoch 3/25\n",
      "{'mean_loss': 0.26316667441278696}\n",
      "{'metrics': [{'sample': 'IXI077_0', 'metric1': tensor([0.7689])}, {'sample': 'IXI111_0', 'metric1': tensor([0.8603])}, {'sample': 'IXI115_0', 'metric1': tensor([0.7597])}]}\n",
      "Epoch 4/25\n",
      "{'mean_loss': 0.2678287575642268}\n",
      "{'metrics': [{'sample': 'IXI077_0', 'metric1': tensor([0.7987])}, {'sample': 'IXI111_0', 'metric1': tensor([0.8774])}, {'sample': 'IXI115_0', 'metric1': tensor([0.7659])}]}\n",
      "Epoch 5/25\n",
      "{'mean_loss': 0.2495368638386329}\n",
      "{'metrics': [{'sample': 'IXI077_0', 'metric1': tensor([0.8158])}, {'sample': 'IXI111_0', 'metric1': tensor([0.8830])}, {'sample': 'IXI115_0', 'metric1': tensor([0.7619])}]}\n",
      "Epoch 6/25\n",
      "{'mean_loss': 0.22904719598591328}\n",
      "{'metrics': [{'sample': 'IXI077_0', 'metric1': tensor([0.8278])}, {'sample': 'IXI111_0', 'metric1': tensor([0.8882])}, {'sample': 'IXI115_0', 'metric1': tensor([0.7605])}]}\n",
      "Epoch 7/25\n",
      "{'mean_loss': 0.2328390826781591}\n",
      "{'metrics': [{'sample': 'IXI077_0', 'metric1': tensor([0.8309])}, {'sample': 'IXI111_0', 'metric1': tensor([0.8947])}, {'sample': 'IXI115_0', 'metric1': tensor([0.7683])}]}\n",
      "Epoch 8/25\n",
      "{'mean_loss': 0.22846170763174692}\n",
      "{'metrics': [{'sample': 'IXI077_0', 'metric1': tensor([0.8291])}, {'sample': 'IXI111_0', 'metric1': tensor([0.8986])}, {'sample': 'IXI115_0', 'metric1': tensor([0.7754])}]}\n",
      "Epoch 9/25\n",
      "{'mean_loss': 0.23562666308134794}\n",
      "{'metrics': [{'sample': 'IXI077_0', 'metric1': tensor([0.8407])}, {'sample': 'IXI111_0', 'metric1': tensor([0.9038])}, {'sample': 'IXI115_0', 'metric1': tensor([0.7754])}]}\n",
      "Epoch 10/25\n",
      "{'mean_loss': 0.22655217659970125}\n",
      "{'metrics': [{'sample': 'IXI077_0', 'metric1': tensor([0.8497])}, {'sample': 'IXI111_0', 'metric1': tensor([0.9095])}, {'sample': 'IXI115_0', 'metric1': tensor([0.7795])}]}\n",
      "Epoch 11/25\n",
      "{'mean_loss': 0.22554707154631615}\n",
      "{'metrics': [{'sample': 'IXI077_0', 'metric1': tensor([0.8535])}, {'sample': 'IXI111_0', 'metric1': tensor([0.9140])}, {'sample': 'IXI115_0', 'metric1': tensor([0.7844])}]}\n",
      "Epoch 12/25\n",
      "{'mean_loss': 0.2233067952717344}\n",
      "{'metrics': [{'sample': 'IXI077_0', 'metric1': tensor([0.8588])}, {'sample': 'IXI111_0', 'metric1': tensor([0.9180])}, {'sample': 'IXI115_0', 'metric1': tensor([0.7887])}]}\n",
      "Epoch 13/25\n",
      "{'mean_loss': 0.21438814016679922}\n",
      "{'metrics': [{'sample': 'IXI077_0', 'metric1': tensor([0.8653])}, {'sample': 'IXI111_0', 'metric1': tensor([0.9211])}, {'sample': 'IXI115_0', 'metric1': tensor([0.7893])}]}\n",
      "Epoch 14/25\n",
      "{'mean_loss': 0.21565366567422947}\n",
      "{'metrics': [{'sample': 'IXI077_0', 'metric1': tensor([0.8677])}, {'sample': 'IXI111_0', 'metric1': tensor([0.9241])}, {'sample': 'IXI115_0', 'metric1': tensor([0.7922])}]}\n",
      "Epoch 15/25\n",
      "{'mean_loss': 0.21605047645668188}\n",
      "{'metrics': [{'sample': 'IXI077_0', 'metric1': tensor([0.8690])}, {'sample': 'IXI111_0', 'metric1': tensor([0.9263])}, {'sample': 'IXI115_0', 'metric1': tensor([0.7948])}]}\n",
      "Epoch 16/25\n",
      "{'mean_loss': 0.2123022172600031}\n",
      "{'metrics': [{'sample': 'IXI077_0', 'metric1': tensor([0.8685])}, {'sample': 'IXI111_0', 'metric1': tensor([0.9274])}, {'sample': 'IXI115_0', 'metric1': tensor([0.7977])}]}\n",
      "Epoch 17/25\n",
      "{'mean_loss': 0.21365948766469955}\n",
      "{'metrics': [{'sample': 'IXI077_0', 'metric1': tensor([0.8719])}, {'sample': 'IXI111_0', 'metric1': tensor([0.9288])}, {'sample': 'IXI115_0', 'metric1': tensor([0.7971])}]}\n",
      "Epoch 18/25\n",
      "{'mean_loss': 0.2135700477908055}\n",
      "{'metrics': [{'sample': 'IXI077_0', 'metric1': tensor([0.8742])}, {'sample': 'IXI111_0', 'metric1': tensor([0.9304])}, {'sample': 'IXI115_0', 'metric1': tensor([0.7979])}]}\n",
      "Epoch 19/25\n",
      "{'mean_loss': 0.21407096926122904}\n",
      "{'metrics': [{'sample': 'IXI077_0', 'metric1': tensor([0.8766])}, {'sample': 'IXI111_0', 'metric1': tensor([0.9320])}, {'sample': 'IXI115_0', 'metric1': tensor([0.7991])}]}\n",
      "Epoch 20/25\n",
      "{'mean_loss': 0.21847322986771664}\n",
      "{'metrics': [{'sample': 'IXI077_0', 'metric1': tensor([0.8779])}, {'sample': 'IXI111_0', 'metric1': tensor([0.9331])}, {'sample': 'IXI115_0', 'metric1': tensor([0.8005])}]}\n",
      "Epoch 21/25\n",
      "{'mean_loss': 0.20695664826780558}\n",
      "{'metrics': [{'sample': 'IXI077_0', 'metric1': tensor([0.8765])}, {'sample': 'IXI111_0', 'metric1': tensor([0.9336])}, {'sample': 'IXI115_0', 'metric1': tensor([0.8023])}]}\n",
      "Epoch 22/25\n",
      "{'mean_loss': 0.21196507569402456}\n",
      "{'metrics': [{'sample': 'IXI077_0', 'metric1': tensor([0.8779])}, {'sample': 'IXI111_0', 'metric1': tensor([0.9347])}, {'sample': 'IXI115_0', 'metric1': tensor([0.8022])}]}\n",
      "Epoch 23/25\n",
      "{'mean_loss': 0.21413692459464073}\n",
      "{'metrics': [{'sample': 'IXI077_0', 'metric1': tensor([0.8780])}, {'sample': 'IXI111_0', 'metric1': tensor([0.9355])}, {'sample': 'IXI115_0', 'metric1': tensor([0.8035])}]}\n",
      "Epoch 24/25\n",
      "{'mean_loss': 0.2141561477134625}\n",
      "{'metrics': [{'sample': 'IXI077_0', 'metric1': tensor([0.8787])}, {'sample': 'IXI111_0', 'metric1': tensor([0.9363])}, {'sample': 'IXI115_0', 'metric1': tensor([0.8044])}]}\n",
      "Epoch 25/25\n",
      "{'mean_loss': 0.21648899714152017}\n"
     ]
    },
    {
     "name": "stderr",
     "output_type": "stream",
     "text": [
      "100%|███████████████████████████████████████████| 2/2 [36:29<00:00, 1094.53s/it]"
     ]
    },
    {
     "name": "stdout",
     "output_type": "stream",
     "text": [
      "{'metrics': [{'sample': 'IXI077_0', 'metric1': tensor([0.8792])}, {'sample': 'IXI111_0', 'metric1': tensor([0.9370])}, {'sample': 'IXI115_0', 'metric1': tensor([0.8047])}]}\n"
     ]
    },
    {
     "name": "stderr",
     "output_type": "stream",
     "text": [
      "\n"
     ]
    }
   ],
   "source": [
    "#model_name = 'HessUNet2'\n",
    "model_name = 'Unet3d_16ch'\n",
    "\n",
    "run_tests(model_name=model_name, \n",
    "          path_to_save_models=\"/home/msst/save_folder/models_for_tests\",\n",
    "          test_data_path = '/home/msst/Documents/medtech/data/HessData_IXI_test',\n",
    "          is2d=False,\n",
    "          epochs=25)"
   ]
  },
  {
   "cell_type": "code",
   "execution_count": null,
   "id": "25da444c-ff03-48f7-9ced-277fd51367dc",
   "metadata": {},
   "outputs": [],
   "source": []
  }
 ],
 "metadata": {
  "kernelspec": {
   "display_name": "segenv",
   "language": "python",
   "name": "segenv"
  },
  "language_info": {
   "codemirror_mode": {
    "name": "ipython",
    "version": 3
   },
   "file_extension": ".py",
   "mimetype": "text/x-python",
   "name": "python",
   "nbconvert_exporter": "python",
   "pygments_lexer": "ipython3",
   "version": "3.10.13"
  }
 },
 "nbformat": 4,
 "nbformat_minor": 5
}
